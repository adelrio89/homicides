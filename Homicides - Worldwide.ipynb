{
 "cells": [
  {
   "cell_type": "markdown",
   "metadata": {},
   "source": [
    "# Homicides Analysis"
   ]
  },
  {
   "cell_type": "markdown",
   "metadata": {},
   "source": [
    "For this first project, I am interested in exploring and visualizing crime rates worldwide in order to have a general idea of the phenomenon. I will be using data for Intentional homicides (per 100.000 people) made available by World Bank here: https://data.worldbank.org/indicator/VC.IHR.PSRC.P5\n",
    "\n",
    "**Skills:** pandas, numpy, seaborn, matplotlib, plotly, choropleth"
   ]
  },
  {
   "cell_type": "code",
   "execution_count": 545,
   "metadata": {
    "collapsed": true
   },
   "outputs": [],
   "source": [
    "#Import libraries for data analysis and visualization\n",
    "import pandas as pd\n",
    "import numpy as np\n",
    "import seaborn as sns\n",
    "import matplotlib.pyplot as plt"
   ]
  },
  {
   "cell_type": "code",
   "execution_count": 1,
   "metadata": {
    "collapsed": true
   },
   "outputs": [],
   "source": [
    "#This line is required to show matplotlib's plots in Jupyter Notebook\n",
    "%matplotlib inline"
   ]
  },
  {
   "cell_type": "code",
   "execution_count": 3,
   "metadata": {
    "collapsed": true
   },
   "outputs": [],
   "source": [
    "#Read first file from downloaded data from World Bank\n",
    "df = pd.read_csv('API_VC.IHR.PSRC.P5_DS2_es_csv_v2/Metadata_Country_API_VC.IHR.PSRC.P5_DS2_es_csv_v2.csv')"
   ]
  },
  {
   "cell_type": "code",
   "execution_count": 4,
   "metadata": {},
   "outputs": [
    {
     "data": {
      "text/html": [
       "<div>\n",
       "<style>\n",
       "    .dataframe thead tr:only-child th {\n",
       "        text-align: right;\n",
       "    }\n",
       "\n",
       "    .dataframe thead th {\n",
       "        text-align: left;\n",
       "    }\n",
       "\n",
       "    .dataframe tbody tr th {\n",
       "        vertical-align: top;\n",
       "    }\n",
       "</style>\n",
       "<table border=\"1\" class=\"dataframe\">\n",
       "  <thead>\n",
       "    <tr style=\"text-align: right;\">\n",
       "      <th></th>\n",
       "      <th>Country Name</th>\n",
       "      <th>Country Code</th>\n",
       "      <th>Region</th>\n",
       "      <th>Income_Group</th>\n",
       "      <th>Unnamed: 4</th>\n",
       "    </tr>\n",
       "  </thead>\n",
       "  <tbody>\n",
       "    <tr>\n",
       "      <th>0</th>\n",
       "      <td>Aruba</td>\n",
       "      <td>ABW</td>\n",
       "      <td>NaN</td>\n",
       "      <td>Ingreso alto</td>\n",
       "      <td>NaN</td>\n",
       "    </tr>\n",
       "    <tr>\n",
       "      <th>1</th>\n",
       "      <td>Afganistán</td>\n",
       "      <td>AFG</td>\n",
       "      <td>Asia meridional</td>\n",
       "      <td>Países de ingreso bajo</td>\n",
       "      <td>NaN</td>\n",
       "    </tr>\n",
       "    <tr>\n",
       "      <th>2</th>\n",
       "      <td>Angola</td>\n",
       "      <td>AGO</td>\n",
       "      <td>África al sur del Sahara (excluido altos ingre...</td>\n",
       "      <td>Países de ingreso mediano bajo</td>\n",
       "      <td>NaN</td>\n",
       "    </tr>\n",
       "    <tr>\n",
       "      <th>3</th>\n",
       "      <td>Albania</td>\n",
       "      <td>ALB</td>\n",
       "      <td>Europa y Asia central (excluido altos ingresos)</td>\n",
       "      <td>Ingreso mediano alto</td>\n",
       "      <td>NaN</td>\n",
       "    </tr>\n",
       "    <tr>\n",
       "      <th>4</th>\n",
       "      <td>Andorra</td>\n",
       "      <td>AND</td>\n",
       "      <td>NaN</td>\n",
       "      <td>Ingreso alto</td>\n",
       "      <td>NaN</td>\n",
       "    </tr>\n",
       "  </tbody>\n",
       "</table>\n",
       "</div>"
      ],
      "text/plain": [
       "  Country Name Country Code  \\\n",
       "0        Aruba          ABW   \n",
       "1   Afganistán          AFG   \n",
       "2       Angola          AGO   \n",
       "3      Albania          ALB   \n",
       "4      Andorra          AND   \n",
       "\n",
       "                                              Region  \\\n",
       "0                                                NaN   \n",
       "1                                    Asia meridional   \n",
       "2  África al sur del Sahara (excluido altos ingre...   \n",
       "3    Europa y Asia central (excluido altos ingresos)   \n",
       "4                                                NaN   \n",
       "\n",
       "                     Income_Group  Unnamed: 4  \n",
       "0                    Ingreso alto         NaN  \n",
       "1          Países de ingreso bajo         NaN  \n",
       "2  Países de ingreso mediano bajo         NaN  \n",
       "3            Ingreso mediano alto         NaN  \n",
       "4                    Ingreso alto         NaN  "
      ]
     },
     "execution_count": 4,
     "metadata": {},
     "output_type": "execute_result"
    }
   ],
   "source": [
    "# Check first five rows of data\n",
    "df.head()"
   ]
  },
  {
   "cell_type": "code",
   "execution_count": 5,
   "metadata": {},
   "outputs": [
    {
     "data": {
      "text/plain": [
       "Ingreso alto                      77\n",
       "Ingreso mediano alto              56\n",
       "Países de ingreso mediano bajo    53\n",
       "Agregados                         47\n",
       "Países de ingreso bajo            31\n",
       "Name: Income_Group, dtype: int64"
      ]
     },
     "execution_count": 5,
     "metadata": {},
     "output_type": "execute_result"
    }
   ],
   "source": [
    "# List categories of Income Group in data\n",
    "df['Income_Group'].value_counts()"
   ]
  },
  {
   "cell_type": "code",
   "execution_count": 6,
   "metadata": {},
   "outputs": [],
   "source": [
    "##Read second file out of downloaded data from World Bank. This seems to be just a description of the homicides indicador measured for countries\n",
    "df2 = pd.read_csv('API_VC.IHR.PSRC.P5_DS2_es_csv_v2/Metadata_Indicator_API_VC.IHR.PSRC.P5_DS2_es_csv_v2.csv')"
   ]
  },
  {
   "cell_type": "code",
   "execution_count": 8,
   "metadata": {},
   "outputs": [
    {
     "data": {
      "text/html": [
       "<div>\n",
       "<style>\n",
       "    .dataframe thead tr:only-child th {\n",
       "        text-align: right;\n",
       "    }\n",
       "\n",
       "    .dataframe thead th {\n",
       "        text-align: left;\n",
       "    }\n",
       "\n",
       "    .dataframe tbody tr th {\n",
       "        vertical-align: top;\n",
       "    }\n",
       "</style>\n",
       "<table border=\"1\" class=\"dataframe\">\n",
       "  <thead>\n",
       "    <tr style=\"text-align: right;\">\n",
       "      <th></th>\n",
       "      <th>INDICATOR_CODE</th>\n",
       "      <th>INDICATOR_NAME</th>\n",
       "      <th>SOURCE_NOTE</th>\n",
       "      <th>SOURCE_ORGANIZATION</th>\n",
       "      <th>Unnamed: 4</th>\n",
       "    </tr>\n",
       "  </thead>\n",
       "  <tbody>\n",
       "    <tr>\n",
       "      <th>0</th>\n",
       "      <td>VC.IHR.PSRC.P5</td>\n",
       "      <td>Homicidios intencionales (por cada 100.000 hab...</td>\n",
       "      <td>Los homicidios intencionales son cálculos de h...</td>\n",
       "      <td>Base de datos de Estadísticas de homicidios in...</td>\n",
       "      <td>NaN</td>\n",
       "    </tr>\n",
       "  </tbody>\n",
       "</table>\n",
       "</div>"
      ],
      "text/plain": [
       "   INDICATOR_CODE                                     INDICATOR_NAME  \\\n",
       "0  VC.IHR.PSRC.P5  Homicidios intencionales (por cada 100.000 hab...   \n",
       "\n",
       "                                         SOURCE_NOTE  \\\n",
       "0  Los homicidios intencionales son cálculos de h...   \n",
       "\n",
       "                                 SOURCE_ORGANIZATION  Unnamed: 4  \n",
       "0  Base de datos de Estadísticas de homicidios in...         NaN  "
      ]
     },
     "execution_count": 8,
     "metadata": {},
     "output_type": "execute_result"
    }
   ],
   "source": [
    "#Data only has one row\n",
    "df2.head()"
   ]
  },
  {
   "cell_type": "code",
   "execution_count": 7,
   "metadata": {},
   "outputs": [
    {
     "data": {
      "text/plain": [
       "'Los homicidios intencionales son cálculos de homicidios ilegales cometidos en forma intencional como resultado de conflictos internos, violencia interpersonal, conflictos violentos por la tierra o sus recursos, violencia entre pandillas por el territorio o el control y asesinatos y violencia que atenta contra la integridad física por parte de grupos armados. El homicidio intencional no incluye todos los asesinatos intencionales; la diferencia suele encontrarse en la organización del asesinato. Por lo general, las personas o grupos pequeños cometen homicidios, mientras que el asesinato en conflictos armados suele ser cometido por grupos organizados de varios cientos de miembros y por ende, se excluye.'"
      ]
     },
     "execution_count": 7,
     "metadata": {},
     "output_type": "execute_result"
    }
   ],
   "source": [
    "# Check complete description of the indicator.\n",
    "df2.iloc[0]['SOURCE_NOTE']"
   ]
  },
  {
   "cell_type": "code",
   "execution_count": 65,
   "metadata": {},
   "outputs": [],
   "source": [
    "# Read third file from downloaded data from World Bank. I skip first 4 rows for pandas to actually read the file.\n",
    "# This is homicides rates (per 100.000 people) by country and year since 1960.\n",
    "df3 = pd.read_csv('API_VC.IHR.PSRC.P5_DS2_es_csv_v2/API_VC.IHR.PSRC.P5_DS2_es_csv_v2.csv',skiprows=4)"
   ]
  },
  {
   "cell_type": "code",
   "execution_count": 10,
   "metadata": {},
   "outputs": [
    {
     "data": {
      "text/html": [
       "<div>\n",
       "<style>\n",
       "    .dataframe thead tr:only-child th {\n",
       "        text-align: right;\n",
       "    }\n",
       "\n",
       "    .dataframe thead th {\n",
       "        text-align: left;\n",
       "    }\n",
       "\n",
       "    .dataframe tbody tr th {\n",
       "        vertical-align: top;\n",
       "    }\n",
       "</style>\n",
       "<table border=\"1\" class=\"dataframe\">\n",
       "  <thead>\n",
       "    <tr style=\"text-align: right;\">\n",
       "      <th></th>\n",
       "      <th>Country Name</th>\n",
       "      <th>Country Code</th>\n",
       "      <th>Indicator Name</th>\n",
       "      <th>Indicator Code</th>\n",
       "      <th>1960</th>\n",
       "      <th>1961</th>\n",
       "      <th>1962</th>\n",
       "      <th>1963</th>\n",
       "      <th>1964</th>\n",
       "      <th>1965</th>\n",
       "      <th>...</th>\n",
       "      <th>2009</th>\n",
       "      <th>2010</th>\n",
       "      <th>2011</th>\n",
       "      <th>2012</th>\n",
       "      <th>2013</th>\n",
       "      <th>2014</th>\n",
       "      <th>2015</th>\n",
       "      <th>2016</th>\n",
       "      <th>2017</th>\n",
       "      <th>Unnamed: 62</th>\n",
       "    </tr>\n",
       "  </thead>\n",
       "  <tbody>\n",
       "    <tr>\n",
       "      <th>0</th>\n",
       "      <td>Aruba</td>\n",
       "      <td>ABW</td>\n",
       "      <td>Homicidios intencionales (por cada 100.000 hab...</td>\n",
       "      <td>VC.IHR.PSRC.P5</td>\n",
       "      <td>NaN</td>\n",
       "      <td>NaN</td>\n",
       "      <td>NaN</td>\n",
       "      <td>NaN</td>\n",
       "      <td>NaN</td>\n",
       "      <td>NaN</td>\n",
       "      <td>...</td>\n",
       "      <td>3.9</td>\n",
       "      <td>3.9</td>\n",
       "      <td>NaN</td>\n",
       "      <td>NaN</td>\n",
       "      <td>NaN</td>\n",
       "      <td>NaN</td>\n",
       "      <td>NaN</td>\n",
       "      <td>NaN</td>\n",
       "      <td>NaN</td>\n",
       "      <td>NaN</td>\n",
       "    </tr>\n",
       "    <tr>\n",
       "      <th>1</th>\n",
       "      <td>Afganistán</td>\n",
       "      <td>AFG</td>\n",
       "      <td>Homicidios intencionales (por cada 100.000 hab...</td>\n",
       "      <td>VC.IHR.PSRC.P5</td>\n",
       "      <td>NaN</td>\n",
       "      <td>NaN</td>\n",
       "      <td>NaN</td>\n",
       "      <td>NaN</td>\n",
       "      <td>NaN</td>\n",
       "      <td>NaN</td>\n",
       "      <td>...</td>\n",
       "      <td>4.1</td>\n",
       "      <td>3.5</td>\n",
       "      <td>4.3</td>\n",
       "      <td>6.6</td>\n",
       "      <td>NaN</td>\n",
       "      <td>NaN</td>\n",
       "      <td>NaN</td>\n",
       "      <td>NaN</td>\n",
       "      <td>NaN</td>\n",
       "      <td>NaN</td>\n",
       "    </tr>\n",
       "    <tr>\n",
       "      <th>2</th>\n",
       "      <td>Angola</td>\n",
       "      <td>AGO</td>\n",
       "      <td>Homicidios intencionales (por cada 100.000 hab...</td>\n",
       "      <td>VC.IHR.PSRC.P5</td>\n",
       "      <td>NaN</td>\n",
       "      <td>NaN</td>\n",
       "      <td>NaN</td>\n",
       "      <td>NaN</td>\n",
       "      <td>NaN</td>\n",
       "      <td>NaN</td>\n",
       "      <td>...</td>\n",
       "      <td>NaN</td>\n",
       "      <td>10.5</td>\n",
       "      <td>NaN</td>\n",
       "      <td>NaN</td>\n",
       "      <td>NaN</td>\n",
       "      <td>NaN</td>\n",
       "      <td>9.6</td>\n",
       "      <td>NaN</td>\n",
       "      <td>NaN</td>\n",
       "      <td>NaN</td>\n",
       "    </tr>\n",
       "    <tr>\n",
       "      <th>3</th>\n",
       "      <td>Albania</td>\n",
       "      <td>ALB</td>\n",
       "      <td>Homicidios intencionales (por cada 100.000 hab...</td>\n",
       "      <td>VC.IHR.PSRC.P5</td>\n",
       "      <td>NaN</td>\n",
       "      <td>NaN</td>\n",
       "      <td>NaN</td>\n",
       "      <td>NaN</td>\n",
       "      <td>NaN</td>\n",
       "      <td>NaN</td>\n",
       "      <td>...</td>\n",
       "      <td>2.9</td>\n",
       "      <td>4.4</td>\n",
       "      <td>4.9</td>\n",
       "      <td>5.5</td>\n",
       "      <td>4.3</td>\n",
       "      <td>4.0</td>\n",
       "      <td>2.3</td>\n",
       "      <td>NaN</td>\n",
       "      <td>NaN</td>\n",
       "      <td>NaN</td>\n",
       "    </tr>\n",
       "    <tr>\n",
       "      <th>4</th>\n",
       "      <td>Andorra</td>\n",
       "      <td>AND</td>\n",
       "      <td>Homicidios intencionales (por cada 100.000 hab...</td>\n",
       "      <td>VC.IHR.PSRC.P5</td>\n",
       "      <td>NaN</td>\n",
       "      <td>NaN</td>\n",
       "      <td>NaN</td>\n",
       "      <td>NaN</td>\n",
       "      <td>NaN</td>\n",
       "      <td>NaN</td>\n",
       "      <td>...</td>\n",
       "      <td>1.2</td>\n",
       "      <td>1.2</td>\n",
       "      <td>1.2</td>\n",
       "      <td>0.0</td>\n",
       "      <td>0.0</td>\n",
       "      <td>0.0</td>\n",
       "      <td>0.0</td>\n",
       "      <td>NaN</td>\n",
       "      <td>NaN</td>\n",
       "      <td>NaN</td>\n",
       "    </tr>\n",
       "  </tbody>\n",
       "</table>\n",
       "<p>5 rows × 63 columns</p>\n",
       "</div>"
      ],
      "text/plain": [
       "  Country Name Country Code  \\\n",
       "0        Aruba          ABW   \n",
       "1   Afganistán          AFG   \n",
       "2       Angola          AGO   \n",
       "3      Albania          ALB   \n",
       "4      Andorra          AND   \n",
       "\n",
       "                                      Indicator Name  Indicator Code  1960  \\\n",
       "0  Homicidios intencionales (por cada 100.000 hab...  VC.IHR.PSRC.P5   NaN   \n",
       "1  Homicidios intencionales (por cada 100.000 hab...  VC.IHR.PSRC.P5   NaN   \n",
       "2  Homicidios intencionales (por cada 100.000 hab...  VC.IHR.PSRC.P5   NaN   \n",
       "3  Homicidios intencionales (por cada 100.000 hab...  VC.IHR.PSRC.P5   NaN   \n",
       "4  Homicidios intencionales (por cada 100.000 hab...  VC.IHR.PSRC.P5   NaN   \n",
       "\n",
       "   1961  1962  1963  1964  1965     ...       2009  2010  2011  2012  2013  \\\n",
       "0   NaN   NaN   NaN   NaN   NaN     ...        3.9   3.9   NaN   NaN   NaN   \n",
       "1   NaN   NaN   NaN   NaN   NaN     ...        4.1   3.5   4.3   6.6   NaN   \n",
       "2   NaN   NaN   NaN   NaN   NaN     ...        NaN  10.5   NaN   NaN   NaN   \n",
       "3   NaN   NaN   NaN   NaN   NaN     ...        2.9   4.4   4.9   5.5   4.3   \n",
       "4   NaN   NaN   NaN   NaN   NaN     ...        1.2   1.2   1.2   0.0   0.0   \n",
       "\n",
       "   2014  2015  2016  2017  Unnamed: 62  \n",
       "0   NaN   NaN   NaN   NaN          NaN  \n",
       "1   NaN   NaN   NaN   NaN          NaN  \n",
       "2   NaN   9.6   NaN   NaN          NaN  \n",
       "3   4.0   2.3   NaN   NaN          NaN  \n",
       "4   0.0   0.0   NaN   NaN          NaN  \n",
       "\n",
       "[5 rows x 63 columns]"
      ]
     },
     "execution_count": 10,
     "metadata": {},
     "output_type": "execute_result"
    }
   ],
   "source": [
    "#Check first five rows of the data\n",
    "df3.head()"
   ]
  },
  {
   "cell_type": "code",
   "execution_count": 48,
   "metadata": {},
   "outputs": [
    {
     "data": {
      "text/html": [
       "<div>\n",
       "<style>\n",
       "    .dataframe thead tr:only-child th {\n",
       "        text-align: right;\n",
       "    }\n",
       "\n",
       "    .dataframe thead th {\n",
       "        text-align: left;\n",
       "    }\n",
       "\n",
       "    .dataframe tbody tr th {\n",
       "        vertical-align: top;\n",
       "    }\n",
       "</style>\n",
       "<table border=\"1\" class=\"dataframe\">\n",
       "  <thead>\n",
       "    <tr style=\"text-align: right;\">\n",
       "      <th></th>\n",
       "      <th>Country Name</th>\n",
       "      <th>Country Code</th>\n",
       "      <th>Indicator Name</th>\n",
       "      <th>Indicator Code</th>\n",
       "      <th>1960</th>\n",
       "      <th>1961</th>\n",
       "      <th>1962</th>\n",
       "      <th>1963</th>\n",
       "      <th>1964</th>\n",
       "      <th>1965</th>\n",
       "      <th>...</th>\n",
       "      <th>2009</th>\n",
       "      <th>2010</th>\n",
       "      <th>2011</th>\n",
       "      <th>2012</th>\n",
       "      <th>2013</th>\n",
       "      <th>2014</th>\n",
       "      <th>2015</th>\n",
       "      <th>2016</th>\n",
       "      <th>2017</th>\n",
       "      <th>Unnamed: 62</th>\n",
       "    </tr>\n",
       "  </thead>\n",
       "  <tbody>\n",
       "    <tr>\n",
       "      <th>37</th>\n",
       "      <td>Chile</td>\n",
       "      <td>CHL</td>\n",
       "      <td>Homicidios intencionales (por cada 100.000 hab...</td>\n",
       "      <td>VC.IHR.PSRC.P5</td>\n",
       "      <td>NaN</td>\n",
       "      <td>NaN</td>\n",
       "      <td>NaN</td>\n",
       "      <td>NaN</td>\n",
       "      <td>NaN</td>\n",
       "      <td>NaN</td>\n",
       "      <td>...</td>\n",
       "      <td>3.7</td>\n",
       "      <td>3.2</td>\n",
       "      <td>3.7</td>\n",
       "      <td>2.5</td>\n",
       "      <td>3.2</td>\n",
       "      <td>3.6</td>\n",
       "      <td>NaN</td>\n",
       "      <td>NaN</td>\n",
       "      <td>NaN</td>\n",
       "      <td>NaN</td>\n",
       "    </tr>\n",
       "    <tr>\n",
       "      <th>43</th>\n",
       "      <td>Colombia</td>\n",
       "      <td>COL</td>\n",
       "      <td>Homicidios intencionales (por cada 100.000 hab...</td>\n",
       "      <td>VC.IHR.PSRC.P5</td>\n",
       "      <td>NaN</td>\n",
       "      <td>NaN</td>\n",
       "      <td>NaN</td>\n",
       "      <td>NaN</td>\n",
       "      <td>NaN</td>\n",
       "      <td>NaN</td>\n",
       "      <td>...</td>\n",
       "      <td>34.0</td>\n",
       "      <td>32.7</td>\n",
       "      <td>34.1</td>\n",
       "      <td>31.3</td>\n",
       "      <td>32.6</td>\n",
       "      <td>27.9</td>\n",
       "      <td>26.5</td>\n",
       "      <td>NaN</td>\n",
       "      <td>NaN</td>\n",
       "      <td>NaN</td>\n",
       "    </tr>\n",
       "  </tbody>\n",
       "</table>\n",
       "<p>2 rows × 63 columns</p>\n",
       "</div>"
      ],
      "text/plain": [
       "   Country Name Country Code  \\\n",
       "37        Chile          CHL   \n",
       "43     Colombia          COL   \n",
       "\n",
       "                                       Indicator Name  Indicator Code  1960  \\\n",
       "37  Homicidios intencionales (por cada 100.000 hab...  VC.IHR.PSRC.P5   NaN   \n",
       "43  Homicidios intencionales (por cada 100.000 hab...  VC.IHR.PSRC.P5   NaN   \n",
       "\n",
       "    1961  1962  1963  1964  1965     ...       2009  2010  2011  2012  2013  \\\n",
       "37   NaN   NaN   NaN   NaN   NaN     ...        3.7   3.2   3.7   2.5   3.2   \n",
       "43   NaN   NaN   NaN   NaN   NaN     ...       34.0  32.7  34.1  31.3  32.6   \n",
       "\n",
       "    2014  2015  2016  2017  Unnamed: 62  \n",
       "37   3.6   NaN   NaN   NaN          NaN  \n",
       "43  27.9  26.5   NaN   NaN          NaN  \n",
       "\n",
       "[2 rows x 63 columns]"
      ]
     },
     "execution_count": 48,
     "metadata": {},
     "output_type": "execute_result"
    }
   ],
   "source": [
    "# Check my birth and home country's homicides rates\n",
    "df3[(df3['Country Code'] == 'COL') | (df3['Country Code'] == 'CHL')] "
   ]
  },
  {
   "cell_type": "code",
   "execution_count": 13,
   "metadata": {},
   "outputs": [
    {
     "data": {
      "text/plain": [
       "Index(['Country Name', 'Country Code', 'Indicator Name', 'Indicator Code',\n",
       "       '1960', '1961', '1962', '1963', '1964', '1965', '1966', '1967', '1968',\n",
       "       '1969', '1970', '1971', '1972', '1973', '1974', '1975', '1976', '1977',\n",
       "       '1978', '1979', '1980', '1981', '1982', '1983', '1984', '1985', '1986',\n",
       "       '1987', '1988', '1989', '1990', '1991', '1992', '1993', '1994', '1995',\n",
       "       '1996', '1997', '1998', '1999', '2000', '2001', '2002', '2003', '2004',\n",
       "       '2005', '2006', '2007', '2008', '2009', '2010', '2011', '2012', '2013',\n",
       "       '2014', '2015', '2016', '2017', 'Unnamed: 62'],\n",
       "      dtype='object')"
      ]
     },
     "execution_count": 13,
     "metadata": {},
     "output_type": "execute_result"
    }
   ],
   "source": [
    "# Check number of total columns\n",
    "df3.columns"
   ]
  },
  {
   "cell_type": "code",
   "execution_count": 20,
   "metadata": {},
   "outputs": [
    {
     "data": {
      "text/plain": [
       "(264, 63)"
      ]
     },
     "execution_count": 20,
     "metadata": {},
     "output_type": "execute_result"
    }
   ],
   "source": [
    "# Dimensions of the data: 264 rows and 63 columns\n",
    "df3.shape"
   ]
  },
  {
   "cell_type": "markdown",
   "metadata": {},
   "source": [
    "**Cleaning Data**"
   ]
  },
  {
   "cell_type": "markdown",
   "metadata": {},
   "source": []
  },
  {
   "cell_type": "code",
   "execution_count": 38,
   "metadata": {},
   "outputs": [
    {
     "data": {
      "text/plain": [
       "<matplotlib.axes._subplots.AxesSubplot at 0x447b9ff358>"
      ]
     },
     "execution_count": 38,
     "metadata": {},
     "output_type": "execute_result"
    },
    {
     "data": {
      "image/png": "[encoded data removed]",
      "text/plain": [
       "<matplotlib.figure.Figure at 0x447b9fba58>"
      ]
     },
     "metadata": {},
     "output_type": "display_data"
    }
   ],
   "source": [
    "# Using seaborn library I can see there is no data before around 1994 for any country, so I could basically drop those columns\n",
    "sns.heatmap(df3.isnull(),yticklabels=False,cbar=False,cmap='viridis')"
   ]
  },
  {
   "cell_type": "code",
   "execution_count": 66,
   "metadata": {},
   "outputs": [
    {
     "data": {
      "text/plain": [
       "<matplotlib.axes._subplots.AxesSubplot at 0x447bd9e978>"
      ]
     },
     "execution_count": 66,
     "metadata": {},
     "output_type": "execute_result"
    },
    {
     "data": {
      "image/png": "[encoded data removed]",
      "text/plain": [
       "<matplotlib.figure.Figure at 0x447bd9e4a8>"
      ]
     },
     "metadata": {},
     "output_type": "display_data"
    }
   ],
   "source": [
    "# Check if there is real data before 1995 and after 2015\n",
    "sns.heatmap(df3[['2017','2016','2015','1996','1995','1994','1993']].isnull(),yticklabels=False,cbar=False,cmap='viridis')"
   ]
  },
  {
   "cell_type": "code",
   "execution_count": 67,
   "metadata": {},
   "outputs": [
    {
     "name": "stdout",
     "output_type": "stream",
     "text": [
      "1995--> [         nan   6.68555176   7.81232965   3.59893807   1.79927429\n",
      "   1.03331509   5.91147813   9.343765     1.83604638   1.16830719\n",
      "  69.67263381   5.30424761   1.70553593   1.71611082   1.1464901\n",
      "  12.7205747    1.04243724  17.07491445   2.85837235   2.30964046\n",
      "   1.46863785   7.71314365   1.41494286  32.54897947  14.97295938\n",
      "   3.55536441   2.86505134   4.36626278   1.19081972   0.\n",
      "   2.10049401   1.77643468  31.68778915   0.543833    15.36495408\n",
      "  11.65035436   3.554407     9.27622272  13.83261543   0.49077105\n",
      "  11.55654179   9.10400461  16.91940488   2.19857919   1.9111222\n",
      "  22.5875525   15.24679537   1.938768     0.98644306   1.0884176\n",
      "  14.08331795   2.22182989  23.34114433   1.19401191   3.3420111\n",
      "   1.46481262 139.13207885   2.38410369   2.23781345   0.94030225\n",
      "   7.61439739   7.53194062   6.42309832   8.62060163   8.11268341\n",
      "   5.04813464  18.50361283  20.33591335  64.91652658]\n",
      "1994--> [nan]\n",
      "1993--> [nan]\n",
      "2015--> [  nan   9.6   2.3   0.    3.8   0.7   6.5   2.5   1.    0.5   1.9   6.\n",
      "   1.8   1.5  26.7  10.9  13.1   1.7   1.3  11.8   5.9  13.4  10.1  26.5\n",
      "   7.6   8.8  31.5   0.8   6.8   1.4   6.1   3.3   7.5   3.2   1.6   4.7\n",
      "   9.    8.5   9.1   9.2  12.5  19.4   2.2   0.3  63.8   8.1   0.9   5.6\n",
      "   6.9   7.7   0.6   4.1  43.2   4.8   5.8   5.1  23.    3.9  22.3   6.2\n",
      "   7.3   4.6   0.2   3.4  16.3   5.7  10.8   2.4   3.7   2.7   7.2  10.2\n",
      "   9.8   3.6  11.4  15.9   4.4   9.3  11.3 108.6   1.1   9.4  13.   10.7\n",
      "   1.2   3.5   4.2  22.7  30.9   7.    8.4   4.9   3.   57.1   2.1   5.3\n",
      "  34.3]\n",
      "2016--> [nan]\n",
      "2017--> [nan]\n"
     ]
    }
   ],
   "source": [
    "# Doublecheck there is no real data before 1995 and after 2015\n",
    "print('1995-->', df3['1995'].unique())\n",
    "print('1994-->',df3['1994'].unique())\n",
    "print('1993-->',df3['1993'].unique())\n",
    "print('2015-->', df3['2015'].unique())\n",
    "print('2016-->',df3['2016'].unique())\n",
    "print('2017-->',df3['2017'].unique())"
   ]
  },
  {
   "cell_type": "code",
   "execution_count": 68,
   "metadata": {},
   "outputs": [],
   "source": [
    "# Drop columns of years between 1960 and 1994\n",
    "df3.drop(labels=['1960', '1961', '1962', '1963', '1964', '1965', '1966', '1967', '1968','1969', '1970', '1971', '1972', '1973', '1974', '1975', '1976', '1977','1978', '1979', '1980', '1981', '1982', '1983', '1984', '1985', '1986','1987', '1988', '1989', '1990', '1991', '1992', '1993', '1994','2016','2017'],axis=1,inplace=True)"
   ]
  },
  {
   "cell_type": "code",
   "execution_count": 69,
   "metadata": {},
   "outputs": [
    {
     "data": {
      "text/plain": [
       "<matplotlib.axes._subplots.AxesSubplot at 0x447bc7c780>"
      ]
     },
     "execution_count": 69,
     "metadata": {},
     "output_type": "execute_result"
    },
    {
     "data": {
      "image/png": "[encoded data removed]",
      "text/plain": [
       "<matplotlib.figure.Figure at 0x447bce5630>"
      ]
     },
     "metadata": {},
     "output_type": "display_data"
    }
   ],
   "source": [
    "# Plot heatmap to see missing data after dropping columns\n",
    "sns.heatmap(df3.isnull(),yticklabels=False,cbar=False,cmap='viridis')"
   ]
  },
  {
   "cell_type": "code",
   "execution_count": 70,
   "metadata": {
    "collapsed": true
   },
   "outputs": [],
   "source": [
    "# Remove last column as well\n",
    "df3.drop(labels='Unnamed: 62',axis=1,inplace=True)"
   ]
  },
  {
   "cell_type": "code",
   "execution_count": 71,
   "metadata": {},
   "outputs": [
    {
     "data": {
      "text/plain": [
       "<matplotlib.axes._subplots.AxesSubplot at 0x447cdf0780>"
      ]
     },
     "execution_count": 71,
     "metadata": {},
     "output_type": "execute_result"
    },
    {
     "data": {
      "image/png": "[encoded data removed]",
      "text/plain": [
       "<matplotlib.figure.Figure at 0x447cdfc1d0>"
      ]
     },
     "metadata": {},
     "output_type": "display_data"
    }
   ],
   "source": [
    "sns.heatmap(df3.isnull(),yticklabels=False,cbar=False,cmap='viridis')"
   ]
  },
  {
   "cell_type": "code",
   "execution_count": 76,
   "metadata": {},
   "outputs": [
    {
     "data": {
      "text/plain": [
       "(264, 25)"
      ]
     },
     "execution_count": 76,
     "metadata": {},
     "output_type": "execute_result"
    }
   ],
   "source": [
    "# New dimensions after dropping columns\n",
    "df3.shape"
   ]
  },
  {
   "cell_type": "code",
   "execution_count": 251,
   "metadata": {},
   "outputs": [],
   "source": [
    "# Remove indicator code column\n",
    "df3.drop(['Indicator Code','Indicator Name'],axis=1, inplace=True)"
   ]
  },
  {
   "cell_type": "markdown",
   "metadata": {},
   "source": [
    "**Exploring Data**"
   ]
  },
  {
   "cell_type": "markdown",
   "metadata": {},
   "source": []
  },
  {
   "cell_type": "code",
   "execution_count": 307,
   "metadata": {},
   "outputs": [],
   "source": [
    "# Calculate the max homicides rate for each country\n",
    "df3['Max Rate'] = df3[df3.columns[2:]].max(axis=1)"
   ]
  },
  {
   "cell_type": "code",
   "execution_count": 309,
   "metadata": {},
   "outputs": [
    {
     "data": {
      "text/plain": [
       "43    71.7869\n",
       "Name: Max Rate, dtype: float64"
      ]
     },
     "execution_count": 309,
     "metadata": {},
     "output_type": "execute_result"
    }
   ],
   "source": [
    "# Query the max homicides rate for Colombia\n",
    "df3[df3['Country Name'] == 'Colombia']['Max Rate']"
   ]
  },
  {
   "cell_type": "code",
   "execution_count": 311,
   "metadata": {},
   "outputs": [
    {
     "data": {
      "text/html": [
       "<div>\n",
       "<style>\n",
       "    .dataframe thead tr:only-child th {\n",
       "        text-align: right;\n",
       "    }\n",
       "\n",
       "    .dataframe thead th {\n",
       "        text-align: left;\n",
       "    }\n",
       "\n",
       "    .dataframe tbody tr th {\n",
       "        vertical-align: top;\n",
       "    }\n",
       "</style>\n",
       "<table border=\"1\" class=\"dataframe\">\n",
       "  <thead>\n",
       "    <tr style=\"text-align: right;\">\n",
       "      <th></th>\n",
       "      <th>Country Name</th>\n",
       "      <th>Country Code</th>\n",
       "      <th>1995</th>\n",
       "      <th>1996</th>\n",
       "      <th>1997</th>\n",
       "      <th>1998</th>\n",
       "      <th>1999</th>\n",
       "      <th>2000</th>\n",
       "      <th>2001</th>\n",
       "      <th>2002</th>\n",
       "      <th>...</th>\n",
       "      <th>2007</th>\n",
       "      <th>2008</th>\n",
       "      <th>2009</th>\n",
       "      <th>2010</th>\n",
       "      <th>2011</th>\n",
       "      <th>2012</th>\n",
       "      <th>2013</th>\n",
       "      <th>2014</th>\n",
       "      <th>2015</th>\n",
       "      <th>Max Rate</th>\n",
       "    </tr>\n",
       "  </thead>\n",
       "  <tbody>\n",
       "    <tr>\n",
       "      <th>209</th>\n",
       "      <td>El Salvador</td>\n",
       "      <td>SLV</td>\n",
       "      <td>139.132079</td>\n",
       "      <td>117.277282</td>\n",
       "      <td>112.568660</td>\n",
       "      <td>94.996731</td>\n",
       "      <td>65.047181</td>\n",
       "      <td>40.3</td>\n",
       "      <td>37.8</td>\n",
       "      <td>37.9</td>\n",
       "      <td>...</td>\n",
       "      <td>58.4</td>\n",
       "      <td>52.9</td>\n",
       "      <td>72.8</td>\n",
       "      <td>66.0</td>\n",
       "      <td>72.2</td>\n",
       "      <td>42.7</td>\n",
       "      <td>41.3</td>\n",
       "      <td>64.2</td>\n",
       "      <td>108.6</td>\n",
       "      <td>139.132079</td>\n",
       "    </tr>\n",
       "    <tr>\n",
       "      <th>95</th>\n",
       "      <td>Honduras</td>\n",
       "      <td>HND</td>\n",
       "      <td>NaN</td>\n",
       "      <td>NaN</td>\n",
       "      <td>NaN</td>\n",
       "      <td>NaN</td>\n",
       "      <td>42.084253</td>\n",
       "      <td>50.9</td>\n",
       "      <td>54.7</td>\n",
       "      <td>55.7</td>\n",
       "      <td>...</td>\n",
       "      <td>50.3</td>\n",
       "      <td>61.4</td>\n",
       "      <td>71.5</td>\n",
       "      <td>83.1</td>\n",
       "      <td>93.2</td>\n",
       "      <td>92.7</td>\n",
       "      <td>81.9</td>\n",
       "      <td>74.6</td>\n",
       "      <td>63.8</td>\n",
       "      <td>93.200000</td>\n",
       "    </tr>\n",
       "    <tr>\n",
       "      <th>43</th>\n",
       "      <td>Colombia</td>\n",
       "      <td>COL</td>\n",
       "      <td>69.672634</td>\n",
       "      <td>71.786900</td>\n",
       "      <td>67.184550</td>\n",
       "      <td>60.084655</td>\n",
       "      <td>62.292449</td>\n",
       "      <td>65.7</td>\n",
       "      <td>67.9</td>\n",
       "      <td>68.3</td>\n",
       "      <td>...</td>\n",
       "      <td>34.8</td>\n",
       "      <td>33.2</td>\n",
       "      <td>34.0</td>\n",
       "      <td>32.7</td>\n",
       "      <td>34.1</td>\n",
       "      <td>31.3</td>\n",
       "      <td>32.6</td>\n",
       "      <td>27.9</td>\n",
       "      <td>26.5</td>\n",
       "      <td>71.786900</td>\n",
       "    </tr>\n",
       "    <tr>\n",
       "      <th>111</th>\n",
       "      <td>Iraq</td>\n",
       "      <td>IRQ</td>\n",
       "      <td>NaN</td>\n",
       "      <td>NaN</td>\n",
       "      <td>NaN</td>\n",
       "      <td>NaN</td>\n",
       "      <td>NaN</td>\n",
       "      <td>NaN</td>\n",
       "      <td>NaN</td>\n",
       "      <td>NaN</td>\n",
       "      <td>...</td>\n",
       "      <td>66.1</td>\n",
       "      <td>NaN</td>\n",
       "      <td>NaN</td>\n",
       "      <td>NaN</td>\n",
       "      <td>NaN</td>\n",
       "      <td>NaN</td>\n",
       "      <td>NaN</td>\n",
       "      <td>NaN</td>\n",
       "      <td>NaN</td>\n",
       "      <td>66.100000</td>\n",
       "    </tr>\n",
       "    <tr>\n",
       "      <th>261</th>\n",
       "      <td>Sudáfrica</td>\n",
       "      <td>ZAF</td>\n",
       "      <td>64.916527</td>\n",
       "      <td>60.390167</td>\n",
       "      <td>57.112395</td>\n",
       "      <td>57.741681</td>\n",
       "      <td>51.212871</td>\n",
       "      <td>48.5</td>\n",
       "      <td>47.0</td>\n",
       "      <td>46.6</td>\n",
       "      <td>...</td>\n",
       "      <td>37.2</td>\n",
       "      <td>36.0</td>\n",
       "      <td>33.0</td>\n",
       "      <td>30.9</td>\n",
       "      <td>29.9</td>\n",
       "      <td>30.7</td>\n",
       "      <td>31.7</td>\n",
       "      <td>33.0</td>\n",
       "      <td>34.3</td>\n",
       "      <td>64.916527</td>\n",
       "    </tr>\n",
       "  </tbody>\n",
       "</table>\n",
       "<p>5 rows × 24 columns</p>\n",
       "</div>"
      ],
      "text/plain": [
       "    Country Name Country Code        1995        1996        1997       1998  \\\n",
       "209  El Salvador          SLV  139.132079  117.277282  112.568660  94.996731   \n",
       "95      Honduras          HND         NaN         NaN         NaN        NaN   \n",
       "43      Colombia          COL   69.672634   71.786900   67.184550  60.084655   \n",
       "111         Iraq          IRQ         NaN         NaN         NaN        NaN   \n",
       "261    Sudáfrica          ZAF   64.916527   60.390167   57.112395  57.741681   \n",
       "\n",
       "          1999  2000  2001  2002     ...      2007  2008  2009  2010  2011  \\\n",
       "209  65.047181  40.3  37.8  37.9     ...      58.4  52.9  72.8  66.0  72.2   \n",
       "95   42.084253  50.9  54.7  55.7     ...      50.3  61.4  71.5  83.1  93.2   \n",
       "43   62.292449  65.7  67.9  68.3     ...      34.8  33.2  34.0  32.7  34.1   \n",
       "111        NaN   NaN   NaN   NaN     ...      66.1   NaN   NaN   NaN   NaN   \n",
       "261  51.212871  48.5  47.0  46.6     ...      37.2  36.0  33.0  30.9  29.9   \n",
       "\n",
       "     2012  2013  2014   2015    Max Rate  \n",
       "209  42.7  41.3  64.2  108.6  139.132079  \n",
       "95   92.7  81.9  74.6   63.8   93.200000  \n",
       "43   31.3  32.6  27.9   26.5   71.786900  \n",
       "111   NaN   NaN   NaN    NaN   66.100000  \n",
       "261  30.7  31.7  33.0   34.3   64.916527  \n",
       "\n",
       "[5 rows x 24 columns]"
      ]
     },
     "execution_count": 311,
     "metadata": {},
     "output_type": "execute_result"
    }
   ],
   "source": [
    "# Sort the data by Max Rate descending\n",
    "df3.sort_values(by='Max Rate',ascending=False).head()"
   ]
  },
  {
   "cell_type": "code",
   "execution_count": 312,
   "metadata": {
    "collapsed": true
   },
   "outputs": [],
   "source": [
    "# Find out the year of the max homicides rates for each country\n",
    "df3['Year Max Rate'] = df3[df3.columns[2:-2]].idxmax(axis=1)"
   ]
  },
  {
   "cell_type": "code",
   "execution_count": 313,
   "metadata": {},
   "outputs": [
    {
     "data": {
      "text/plain": [
       "43    1996\n",
       "Name: Year Max Rate, dtype: object"
      ]
     },
     "execution_count": 313,
     "metadata": {},
     "output_type": "execute_result"
    }
   ],
   "source": [
    "# Find out the year of the max homicides rate for Colombia\n",
    "df3[df3['Country Name'] == 'Colombia']['Year Max Rate']"
   ]
  },
  {
   "cell_type": "code",
   "execution_count": 315,
   "metadata": {},
   "outputs": [
    {
     "data": {
      "text/html": [
       "<div>\n",
       "<style>\n",
       "    .dataframe thead tr:only-child th {\n",
       "        text-align: right;\n",
       "    }\n",
       "\n",
       "    .dataframe thead th {\n",
       "        text-align: left;\n",
       "    }\n",
       "\n",
       "    .dataframe tbody tr th {\n",
       "        vertical-align: top;\n",
       "    }\n",
       "</style>\n",
       "<table border=\"1\" class=\"dataframe\">\n",
       "  <thead>\n",
       "    <tr style=\"text-align: right;\">\n",
       "      <th></th>\n",
       "      <th>Country Name</th>\n",
       "      <th>Country Code</th>\n",
       "      <th>1995</th>\n",
       "      <th>1996</th>\n",
       "      <th>1997</th>\n",
       "      <th>1998</th>\n",
       "      <th>1999</th>\n",
       "      <th>2000</th>\n",
       "      <th>2001</th>\n",
       "      <th>2002</th>\n",
       "      <th>...</th>\n",
       "      <th>2008</th>\n",
       "      <th>2009</th>\n",
       "      <th>2010</th>\n",
       "      <th>2011</th>\n",
       "      <th>2012</th>\n",
       "      <th>2013</th>\n",
       "      <th>2014</th>\n",
       "      <th>2015</th>\n",
       "      <th>Max Rate</th>\n",
       "      <th>Year Max Rate</th>\n",
       "    </tr>\n",
       "  </thead>\n",
       "  <tbody>\n",
       "    <tr>\n",
       "      <th>209</th>\n",
       "      <td>El Salvador</td>\n",
       "      <td>SLV</td>\n",
       "      <td>139.132079</td>\n",
       "      <td>117.277282</td>\n",
       "      <td>112.568660</td>\n",
       "      <td>94.996731</td>\n",
       "      <td>65.047181</td>\n",
       "      <td>40.3</td>\n",
       "      <td>37.8</td>\n",
       "      <td>37.9</td>\n",
       "      <td>...</td>\n",
       "      <td>52.9</td>\n",
       "      <td>72.8</td>\n",
       "      <td>66.0</td>\n",
       "      <td>72.2</td>\n",
       "      <td>42.7</td>\n",
       "      <td>41.3</td>\n",
       "      <td>64.2</td>\n",
       "      <td>108.6</td>\n",
       "      <td>139.132079</td>\n",
       "      <td>1995</td>\n",
       "    </tr>\n",
       "    <tr>\n",
       "      <th>95</th>\n",
       "      <td>Honduras</td>\n",
       "      <td>HND</td>\n",
       "      <td>NaN</td>\n",
       "      <td>NaN</td>\n",
       "      <td>NaN</td>\n",
       "      <td>NaN</td>\n",
       "      <td>42.084253</td>\n",
       "      <td>50.9</td>\n",
       "      <td>54.7</td>\n",
       "      <td>55.7</td>\n",
       "      <td>...</td>\n",
       "      <td>61.4</td>\n",
       "      <td>71.5</td>\n",
       "      <td>83.1</td>\n",
       "      <td>93.2</td>\n",
       "      <td>92.7</td>\n",
       "      <td>81.9</td>\n",
       "      <td>74.6</td>\n",
       "      <td>63.8</td>\n",
       "      <td>93.200000</td>\n",
       "      <td>2011</td>\n",
       "    </tr>\n",
       "    <tr>\n",
       "      <th>43</th>\n",
       "      <td>Colombia</td>\n",
       "      <td>COL</td>\n",
       "      <td>69.672634</td>\n",
       "      <td>71.786900</td>\n",
       "      <td>67.184550</td>\n",
       "      <td>60.084655</td>\n",
       "      <td>62.292449</td>\n",
       "      <td>65.7</td>\n",
       "      <td>67.9</td>\n",
       "      <td>68.3</td>\n",
       "      <td>...</td>\n",
       "      <td>33.2</td>\n",
       "      <td>34.0</td>\n",
       "      <td>32.7</td>\n",
       "      <td>34.1</td>\n",
       "      <td>31.3</td>\n",
       "      <td>32.6</td>\n",
       "      <td>27.9</td>\n",
       "      <td>26.5</td>\n",
       "      <td>71.786900</td>\n",
       "      <td>1996</td>\n",
       "    </tr>\n",
       "    <tr>\n",
       "      <th>111</th>\n",
       "      <td>Iraq</td>\n",
       "      <td>IRQ</td>\n",
       "      <td>NaN</td>\n",
       "      <td>NaN</td>\n",
       "      <td>NaN</td>\n",
       "      <td>NaN</td>\n",
       "      <td>NaN</td>\n",
       "      <td>NaN</td>\n",
       "      <td>NaN</td>\n",
       "      <td>NaN</td>\n",
       "      <td>...</td>\n",
       "      <td>NaN</td>\n",
       "      <td>NaN</td>\n",
       "      <td>NaN</td>\n",
       "      <td>NaN</td>\n",
       "      <td>NaN</td>\n",
       "      <td>NaN</td>\n",
       "      <td>NaN</td>\n",
       "      <td>NaN</td>\n",
       "      <td>66.100000</td>\n",
       "      <td>2007</td>\n",
       "    </tr>\n",
       "    <tr>\n",
       "      <th>261</th>\n",
       "      <td>Sudáfrica</td>\n",
       "      <td>ZAF</td>\n",
       "      <td>64.916527</td>\n",
       "      <td>60.390167</td>\n",
       "      <td>57.112395</td>\n",
       "      <td>57.741681</td>\n",
       "      <td>51.212871</td>\n",
       "      <td>48.5</td>\n",
       "      <td>47.0</td>\n",
       "      <td>46.6</td>\n",
       "      <td>...</td>\n",
       "      <td>36.0</td>\n",
       "      <td>33.0</td>\n",
       "      <td>30.9</td>\n",
       "      <td>29.9</td>\n",
       "      <td>30.7</td>\n",
       "      <td>31.7</td>\n",
       "      <td>33.0</td>\n",
       "      <td>34.3</td>\n",
       "      <td>64.916527</td>\n",
       "      <td>1995</td>\n",
       "    </tr>\n",
       "  </tbody>\n",
       "</table>\n",
       "<p>5 rows × 25 columns</p>\n",
       "</div>"
      ],
      "text/plain": [
       "    Country Name Country Code        1995        1996        1997       1998  \\\n",
       "209  El Salvador          SLV  139.132079  117.277282  112.568660  94.996731   \n",
       "95      Honduras          HND         NaN         NaN         NaN        NaN   \n",
       "43      Colombia          COL   69.672634   71.786900   67.184550  60.084655   \n",
       "111         Iraq          IRQ         NaN         NaN         NaN        NaN   \n",
       "261    Sudáfrica          ZAF   64.916527   60.390167   57.112395  57.741681   \n",
       "\n",
       "          1999  2000  2001  2002      ...        2008  2009  2010  2011  2012  \\\n",
       "209  65.047181  40.3  37.8  37.9      ...        52.9  72.8  66.0  72.2  42.7   \n",
       "95   42.084253  50.9  54.7  55.7      ...        61.4  71.5  83.1  93.2  92.7   \n",
       "43   62.292449  65.7  67.9  68.3      ...        33.2  34.0  32.7  34.1  31.3   \n",
       "111        NaN   NaN   NaN   NaN      ...         NaN   NaN   NaN   NaN   NaN   \n",
       "261  51.212871  48.5  47.0  46.6      ...        36.0  33.0  30.9  29.9  30.7   \n",
       "\n",
       "     2013  2014   2015    Max Rate  Year Max Rate  \n",
       "209  41.3  64.2  108.6  139.132079           1995  \n",
       "95   81.9  74.6   63.8   93.200000           2011  \n",
       "43   32.6  27.9   26.5   71.786900           1996  \n",
       "111   NaN   NaN    NaN   66.100000           2007  \n",
       "261  31.7  33.0   34.3   64.916527           1995  \n",
       "\n",
       "[5 rows x 25 columns]"
      ]
     },
     "execution_count": 315,
     "metadata": {},
     "output_type": "execute_result"
    }
   ],
   "source": [
    "# List the countries with the highest homicides rates in 1995-2015 period\n",
    "df3.sort_values(by='Max Rate',ascending=False).head()"
   ]
  },
  {
   "cell_type": "markdown",
   "metadata": {},
   "source": [
    "**Reshaping Data**"
   ]
  },
  {
   "cell_type": "markdown",
   "metadata": {},
   "source": [
    "The idea is to transform the data analysed so far to practice different operations with pandas"
   ]
  },
  {
   "cell_type": "code",
   "execution_count": 344,
   "metadata": {},
   "outputs": [],
   "source": [
    "# Copy dataframe 3 to analyze data using a different structure of the data\n",
    "df4 = df3.drop(['Max Rate','Year Max Rate'],axis=1).copy()"
   ]
  },
  {
   "cell_type": "code",
   "execution_count": 345,
   "metadata": {},
   "outputs": [
    {
     "data": {
      "text/html": [
       "<div>\n",
       "<style>\n",
       "    .dataframe thead tr:only-child th {\n",
       "        text-align: right;\n",
       "    }\n",
       "\n",
       "    .dataframe thead th {\n",
       "        text-align: left;\n",
       "    }\n",
       "\n",
       "    .dataframe tbody tr th {\n",
       "        vertical-align: top;\n",
       "    }\n",
       "</style>\n",
       "<table border=\"1\" class=\"dataframe\">\n",
       "  <thead>\n",
       "    <tr style=\"text-align: right;\">\n",
       "      <th></th>\n",
       "      <th>Country Name</th>\n",
       "      <th>Country Code</th>\n",
       "      <th>1995</th>\n",
       "      <th>1996</th>\n",
       "      <th>1997</th>\n",
       "      <th>1998</th>\n",
       "      <th>1999</th>\n",
       "      <th>2000</th>\n",
       "      <th>2001</th>\n",
       "      <th>2002</th>\n",
       "      <th>...</th>\n",
       "      <th>2006</th>\n",
       "      <th>2007</th>\n",
       "      <th>2008</th>\n",
       "      <th>2009</th>\n",
       "      <th>2010</th>\n",
       "      <th>2011</th>\n",
       "      <th>2012</th>\n",
       "      <th>2013</th>\n",
       "      <th>2014</th>\n",
       "      <th>2015</th>\n",
       "    </tr>\n",
       "  </thead>\n",
       "  <tbody>\n",
       "    <tr>\n",
       "      <th>0</th>\n",
       "      <td>Aruba</td>\n",
       "      <td>ABW</td>\n",
       "      <td>NaN</td>\n",
       "      <td>NaN</td>\n",
       "      <td>NaN</td>\n",
       "      <td>NaN</td>\n",
       "      <td>NaN</td>\n",
       "      <td>NaN</td>\n",
       "      <td>NaN</td>\n",
       "      <td>5.3</td>\n",
       "      <td>...</td>\n",
       "      <td>9.9</td>\n",
       "      <td>5.9</td>\n",
       "      <td>4.9</td>\n",
       "      <td>3.9</td>\n",
       "      <td>3.9</td>\n",
       "      <td>NaN</td>\n",
       "      <td>NaN</td>\n",
       "      <td>NaN</td>\n",
       "      <td>NaN</td>\n",
       "      <td>NaN</td>\n",
       "    </tr>\n",
       "    <tr>\n",
       "      <th>1</th>\n",
       "      <td>Afganistán</td>\n",
       "      <td>AFG</td>\n",
       "      <td>NaN</td>\n",
       "      <td>NaN</td>\n",
       "      <td>NaN</td>\n",
       "      <td>NaN</td>\n",
       "      <td>NaN</td>\n",
       "      <td>NaN</td>\n",
       "      <td>NaN</td>\n",
       "      <td>NaN</td>\n",
       "      <td>...</td>\n",
       "      <td>NaN</td>\n",
       "      <td>NaN</td>\n",
       "      <td>NaN</td>\n",
       "      <td>4.1</td>\n",
       "      <td>3.5</td>\n",
       "      <td>4.3</td>\n",
       "      <td>6.6</td>\n",
       "      <td>NaN</td>\n",
       "      <td>NaN</td>\n",
       "      <td>NaN</td>\n",
       "    </tr>\n",
       "    <tr>\n",
       "      <th>2</th>\n",
       "      <td>Angola</td>\n",
       "      <td>AGO</td>\n",
       "      <td>NaN</td>\n",
       "      <td>NaN</td>\n",
       "      <td>NaN</td>\n",
       "      <td>NaN</td>\n",
       "      <td>NaN</td>\n",
       "      <td>NaN</td>\n",
       "      <td>NaN</td>\n",
       "      <td>NaN</td>\n",
       "      <td>...</td>\n",
       "      <td>NaN</td>\n",
       "      <td>NaN</td>\n",
       "      <td>NaN</td>\n",
       "      <td>NaN</td>\n",
       "      <td>10.5</td>\n",
       "      <td>NaN</td>\n",
       "      <td>NaN</td>\n",
       "      <td>NaN</td>\n",
       "      <td>NaN</td>\n",
       "      <td>9.6</td>\n",
       "    </tr>\n",
       "    <tr>\n",
       "      <th>3</th>\n",
       "      <td>Albania</td>\n",
       "      <td>ALB</td>\n",
       "      <td>6.685552</td>\n",
       "      <td>7.967623</td>\n",
       "      <td>49.872215</td>\n",
       "      <td>18.609715</td>\n",
       "      <td>16.142024</td>\n",
       "      <td>NaN</td>\n",
       "      <td>NaN</td>\n",
       "      <td>NaN</td>\n",
       "      <td>...</td>\n",
       "      <td>3.1</td>\n",
       "      <td>3.5</td>\n",
       "      <td>3.1</td>\n",
       "      <td>2.9</td>\n",
       "      <td>4.4</td>\n",
       "      <td>4.9</td>\n",
       "      <td>5.5</td>\n",
       "      <td>4.3</td>\n",
       "      <td>4.0</td>\n",
       "      <td>2.3</td>\n",
       "    </tr>\n",
       "    <tr>\n",
       "      <th>4</th>\n",
       "      <td>Andorra</td>\n",
       "      <td>AND</td>\n",
       "      <td>NaN</td>\n",
       "      <td>NaN</td>\n",
       "      <td>NaN</td>\n",
       "      <td>NaN</td>\n",
       "      <td>NaN</td>\n",
       "      <td>NaN</td>\n",
       "      <td>NaN</td>\n",
       "      <td>NaN</td>\n",
       "      <td>...</td>\n",
       "      <td>NaN</td>\n",
       "      <td>0.0</td>\n",
       "      <td>1.2</td>\n",
       "      <td>1.2</td>\n",
       "      <td>1.2</td>\n",
       "      <td>1.2</td>\n",
       "      <td>0.0</td>\n",
       "      <td>0.0</td>\n",
       "      <td>0.0</td>\n",
       "      <td>0.0</td>\n",
       "    </tr>\n",
       "  </tbody>\n",
       "</table>\n",
       "<p>5 rows × 23 columns</p>\n",
       "</div>"
      ],
      "text/plain": [
       "  Country Name Country Code      1995      1996       1997       1998  \\\n",
       "0        Aruba          ABW       NaN       NaN        NaN        NaN   \n",
       "1   Afganistán          AFG       NaN       NaN        NaN        NaN   \n",
       "2       Angola          AGO       NaN       NaN        NaN        NaN   \n",
       "3      Albania          ALB  6.685552  7.967623  49.872215  18.609715   \n",
       "4      Andorra          AND       NaN       NaN        NaN        NaN   \n",
       "\n",
       "        1999  2000  2001  2002  ...   2006  2007  2008  2009  2010  2011  \\\n",
       "0        NaN   NaN   NaN   5.3  ...    9.9   5.9   4.9   3.9   3.9   NaN   \n",
       "1        NaN   NaN   NaN   NaN  ...    NaN   NaN   NaN   4.1   3.5   4.3   \n",
       "2        NaN   NaN   NaN   NaN  ...    NaN   NaN   NaN   NaN  10.5   NaN   \n",
       "3  16.142024   NaN   NaN   NaN  ...    3.1   3.5   3.1   2.9   4.4   4.9   \n",
       "4        NaN   NaN   NaN   NaN  ...    NaN   0.0   1.2   1.2   1.2   1.2   \n",
       "\n",
       "   2012  2013  2014  2015  \n",
       "0   NaN   NaN   NaN   NaN  \n",
       "1   6.6   NaN   NaN   NaN  \n",
       "2   NaN   NaN   NaN   9.6  \n",
       "3   5.5   4.3   4.0   2.3  \n",
       "4   0.0   0.0   0.0   0.0  \n",
       "\n",
       "[5 rows x 23 columns]"
      ]
     },
     "execution_count": 345,
     "metadata": {},
     "output_type": "execute_result"
    }
   ],
   "source": [
    "# Check first five rows of data\n",
    "df4.head()"
   ]
  },
  {
   "cell_type": "code",
   "execution_count": 346,
   "metadata": {},
   "outputs": [],
   "source": [
    "# Reshaping data so that years are taken to row level instead of being columns\n",
    "df4 = df4.melt(id_vars=['Country Name','Country Code'],var_name='Year',value_name='Rate')"
   ]
  },
  {
   "cell_type": "code",
   "execution_count": 348,
   "metadata": {},
   "outputs": [],
   "source": [
    "# Drop NA values\n",
    "df4.dropna(inplace=True)"
   ]
  },
  {
   "cell_type": "code",
   "execution_count": 349,
   "metadata": {},
   "outputs": [
    {
     "data": {
      "text/html": [
       "<div>\n",
       "<style>\n",
       "    .dataframe thead tr:only-child th {\n",
       "        text-align: right;\n",
       "    }\n",
       "\n",
       "    .dataframe thead th {\n",
       "        text-align: left;\n",
       "    }\n",
       "\n",
       "    .dataframe tbody tr th {\n",
       "        vertical-align: top;\n",
       "    }\n",
       "</style>\n",
       "<table border=\"1\" class=\"dataframe\">\n",
       "  <thead>\n",
       "    <tr style=\"text-align: right;\">\n",
       "      <th></th>\n",
       "      <th>Country Name</th>\n",
       "      <th>Country Code</th>\n",
       "      <th>Year</th>\n",
       "      <th>Rate</th>\n",
       "    </tr>\n",
       "  </thead>\n",
       "  <tbody>\n",
       "    <tr>\n",
       "      <th>209</th>\n",
       "      <td>El Salvador</td>\n",
       "      <td>SLV</td>\n",
       "      <td>1995</td>\n",
       "      <td>139.132079</td>\n",
       "    </tr>\n",
       "  </tbody>\n",
       "</table>\n",
       "</div>"
      ],
      "text/plain": [
       "    Country Name Country Code  Year        Rate\n",
       "209  El Salvador          SLV  1995  139.132079"
      ]
     },
     "execution_count": 349,
     "metadata": {},
     "output_type": "execute_result"
    }
   ],
   "source": [
    "# Highest rate of homicides in 1995-2015 period\n",
    "df4[df4['Rate'] == np.max(df4['Rate'])]"
   ]
  },
  {
   "cell_type": "code",
   "execution_count": 350,
   "metadata": {},
   "outputs": [
    {
     "data": {
      "text/html": [
       "<div>\n",
       "<style>\n",
       "    .dataframe thead tr:only-child th {\n",
       "        text-align: right;\n",
       "    }\n",
       "\n",
       "    .dataframe thead th {\n",
       "        text-align: left;\n",
       "    }\n",
       "\n",
       "    .dataframe tbody tr th {\n",
       "        vertical-align: top;\n",
       "    }\n",
       "</style>\n",
       "<table border=\"1\" class=\"dataframe\">\n",
       "  <thead>\n",
       "    <tr style=\"text-align: right;\">\n",
       "      <th></th>\n",
       "      <th>Country Name</th>\n",
       "      <th>Country Code</th>\n",
       "      <th>Year</th>\n",
       "      <th>Rate</th>\n",
       "    </tr>\n",
       "  </thead>\n",
       "  <tbody>\n",
       "    <tr>\n",
       "      <th>112</th>\n",
       "      <td>Islandia</td>\n",
       "      <td>ISL</td>\n",
       "      <td>1995</td>\n",
       "      <td>0.0</td>\n",
       "    </tr>\n",
       "    <tr>\n",
       "      <th>135</th>\n",
       "      <td>Liechtenstein</td>\n",
       "      <td>LIE</td>\n",
       "      <td>1995</td>\n",
       "      <td>0.0</td>\n",
       "    </tr>\n",
       "    <tr>\n",
       "      <th>399</th>\n",
       "      <td>Liechtenstein</td>\n",
       "      <td>LIE</td>\n",
       "      <td>1996</td>\n",
       "      <td>0.0</td>\n",
       "    </tr>\n",
       "    <tr>\n",
       "      <th>663</th>\n",
       "      <td>Liechtenstein</td>\n",
       "      <td>LIE</td>\n",
       "      <td>1997</td>\n",
       "      <td>0.0</td>\n",
       "    </tr>\n",
       "    <tr>\n",
       "      <th>781</th>\n",
       "      <td>Islas Vírgenes Británicas</td>\n",
       "      <td>VGB</td>\n",
       "      <td>1997</td>\n",
       "      <td>0.0</td>\n",
       "    </tr>\n",
       "    <tr>\n",
       "      <th>817</th>\n",
       "      <td>Bermudas</td>\n",
       "      <td>BMU</td>\n",
       "      <td>1998</td>\n",
       "      <td>0.0</td>\n",
       "    </tr>\n",
       "    <tr>\n",
       "      <th>904</th>\n",
       "      <td>Islandia</td>\n",
       "      <td>ISL</td>\n",
       "      <td>1998</td>\n",
       "      <td>0.0</td>\n",
       "    </tr>\n",
       "    <tr>\n",
       "      <th>927</th>\n",
       "      <td>Liechtenstein</td>\n",
       "      <td>LIE</td>\n",
       "      <td>1998</td>\n",
       "      <td>0.0</td>\n",
       "    </tr>\n",
       "    <tr>\n",
       "      <th>1018</th>\n",
       "      <td>Islas Turcas y Caicos</td>\n",
       "      <td>TCA</td>\n",
       "      <td>1998</td>\n",
       "      <td>0.0</td>\n",
       "    </tr>\n",
       "    <tr>\n",
       "      <th>1045</th>\n",
       "      <td>Islas Vírgenes Británicas</td>\n",
       "      <td>VGB</td>\n",
       "      <td>1998</td>\n",
       "      <td>0.0</td>\n",
       "    </tr>\n",
       "    <tr>\n",
       "      <th>1282</th>\n",
       "      <td>Islas Turcas y Caicos</td>\n",
       "      <td>TCA</td>\n",
       "      <td>1999</td>\n",
       "      <td>0.0</td>\n",
       "    </tr>\n",
       "    <tr>\n",
       "      <th>1345</th>\n",
       "      <td>Bermudas</td>\n",
       "      <td>BMU</td>\n",
       "      <td>2000</td>\n",
       "      <td>0.0</td>\n",
       "    </tr>\n",
       "    <tr>\n",
       "      <th>1455</th>\n",
       "      <td>Liechtenstein</td>\n",
       "      <td>LIE</td>\n",
       "      <td>2000</td>\n",
       "      <td>0.0</td>\n",
       "    </tr>\n",
       "    <tr>\n",
       "      <th>1546</th>\n",
       "      <td>Islas Turcas y Caicos</td>\n",
       "      <td>TCA</td>\n",
       "      <td>2000</td>\n",
       "      <td>0.0</td>\n",
       "    </tr>\n",
       "    <tr>\n",
       "      <th>1573</th>\n",
       "      <td>Islas Vírgenes Británicas</td>\n",
       "      <td>VGB</td>\n",
       "      <td>2000</td>\n",
       "      <td>0.0</td>\n",
       "    </tr>\n",
       "    <tr>\n",
       "      <th>1719</th>\n",
       "      <td>Liechtenstein</td>\n",
       "      <td>LIE</td>\n",
       "      <td>2001</td>\n",
       "      <td>0.0</td>\n",
       "    </tr>\n",
       "    <tr>\n",
       "      <th>1794</th>\n",
       "      <td>San Marino</td>\n",
       "      <td>SMR</td>\n",
       "      <td>2001</td>\n",
       "      <td>0.0</td>\n",
       "    </tr>\n",
       "    <tr>\n",
       "      <th>1810</th>\n",
       "      <td>Islas Turcas y Caicos</td>\n",
       "      <td>TCA</td>\n",
       "      <td>2001</td>\n",
       "      <td>0.0</td>\n",
       "    </tr>\n",
       "    <tr>\n",
       "      <th>1898</th>\n",
       "      <td>Islas Caimán</td>\n",
       "      <td>CYM</td>\n",
       "      <td>2002</td>\n",
       "      <td>0.0</td>\n",
       "    </tr>\n",
       "    <tr>\n",
       "      <th>1983</th>\n",
       "      <td>Liechtenstein</td>\n",
       "      <td>LIE</td>\n",
       "      <td>2002</td>\n",
       "      <td>0.0</td>\n",
       "    </tr>\n",
       "    <tr>\n",
       "      <th>2091</th>\n",
       "      <td>Tuvalu</td>\n",
       "      <td>TUV</td>\n",
       "      <td>2002</td>\n",
       "      <td>0.0</td>\n",
       "    </tr>\n",
       "    <tr>\n",
       "      <th>2224</th>\n",
       "      <td>Islandia</td>\n",
       "      <td>ISL</td>\n",
       "      <td>2003</td>\n",
       "      <td>0.0</td>\n",
       "    </tr>\n",
       "    <tr>\n",
       "      <th>2247</th>\n",
       "      <td>Liechtenstein</td>\n",
       "      <td>LIE</td>\n",
       "      <td>2003</td>\n",
       "      <td>0.0</td>\n",
       "    </tr>\n",
       "    <tr>\n",
       "      <th>2269</th>\n",
       "      <td>Malta</td>\n",
       "      <td>MLT</td>\n",
       "      <td>2003</td>\n",
       "      <td>0.0</td>\n",
       "    </tr>\n",
       "    <tr>\n",
       "      <th>2322</th>\n",
       "      <td>San Marino</td>\n",
       "      <td>SMR</td>\n",
       "      <td>2003</td>\n",
       "      <td>0.0</td>\n",
       "    </tr>\n",
       "    <tr>\n",
       "      <th>2338</th>\n",
       "      <td>Islas Turcas y Caicos</td>\n",
       "      <td>TCA</td>\n",
       "      <td>2003</td>\n",
       "      <td>0.0</td>\n",
       "    </tr>\n",
       "    <tr>\n",
       "      <th>2355</th>\n",
       "      <td>Tuvalu</td>\n",
       "      <td>TUV</td>\n",
       "      <td>2003</td>\n",
       "      <td>0.0</td>\n",
       "    </tr>\n",
       "    <tr>\n",
       "      <th>2586</th>\n",
       "      <td>San Marino</td>\n",
       "      <td>SMR</td>\n",
       "      <td>2004</td>\n",
       "      <td>0.0</td>\n",
       "    </tr>\n",
       "    <tr>\n",
       "      <th>2602</th>\n",
       "      <td>Islas Turcas y Caicos</td>\n",
       "      <td>TCA</td>\n",
       "      <td>2004</td>\n",
       "      <td>0.0</td>\n",
       "    </tr>\n",
       "    <tr>\n",
       "      <th>2619</th>\n",
       "      <td>Tuvalu</td>\n",
       "      <td>TUV</td>\n",
       "      <td>2004</td>\n",
       "      <td>0.0</td>\n",
       "    </tr>\n",
       "    <tr>\n",
       "      <th>...</th>\n",
       "      <td>...</td>\n",
       "      <td>...</td>\n",
       "      <td>...</td>\n",
       "      <td>...</td>\n",
       "    </tr>\n",
       "    <tr>\n",
       "      <th>2883</th>\n",
       "      <td>Tuvalu</td>\n",
       "      <td>TUV</td>\n",
       "      <td>2005</td>\n",
       "      <td>0.0</td>\n",
       "    </tr>\n",
       "    <tr>\n",
       "      <th>3016</th>\n",
       "      <td>Islandia</td>\n",
       "      <td>ISL</td>\n",
       "      <td>2006</td>\n",
       "      <td>0.0</td>\n",
       "    </tr>\n",
       "    <tr>\n",
       "      <th>3039</th>\n",
       "      <td>Liechtenstein</td>\n",
       "      <td>LIE</td>\n",
       "      <td>2006</td>\n",
       "      <td>0.0</td>\n",
       "    </tr>\n",
       "    <tr>\n",
       "      <th>3061</th>\n",
       "      <td>Malta</td>\n",
       "      <td>MLT</td>\n",
       "      <td>2006</td>\n",
       "      <td>0.0</td>\n",
       "    </tr>\n",
       "    <tr>\n",
       "      <th>3114</th>\n",
       "      <td>San Marino</td>\n",
       "      <td>SMR</td>\n",
       "      <td>2006</td>\n",
       "      <td>0.0</td>\n",
       "    </tr>\n",
       "    <tr>\n",
       "      <th>3147</th>\n",
       "      <td>Tuvalu</td>\n",
       "      <td>TUV</td>\n",
       "      <td>2006</td>\n",
       "      <td>0.0</td>\n",
       "    </tr>\n",
       "    <tr>\n",
       "      <th>3172</th>\n",
       "      <td>Andorra</td>\n",
       "      <td>AND</td>\n",
       "      <td>2007</td>\n",
       "      <td>0.0</td>\n",
       "    </tr>\n",
       "    <tr>\n",
       "      <th>3303</th>\n",
       "      <td>Liechtenstein</td>\n",
       "      <td>LIE</td>\n",
       "      <td>2007</td>\n",
       "      <td>0.0</td>\n",
       "    </tr>\n",
       "    <tr>\n",
       "      <th>3315</th>\n",
       "      <td>Mónaco</td>\n",
       "      <td>MCO</td>\n",
       "      <td>2007</td>\n",
       "      <td>0.0</td>\n",
       "    </tr>\n",
       "    <tr>\n",
       "      <th>3378</th>\n",
       "      <td>San Marino</td>\n",
       "      <td>SMR</td>\n",
       "      <td>2007</td>\n",
       "      <td>0.0</td>\n",
       "    </tr>\n",
       "    <tr>\n",
       "      <th>3411</th>\n",
       "      <td>Tuvalu</td>\n",
       "      <td>TUV</td>\n",
       "      <td>2007</td>\n",
       "      <td>0.0</td>\n",
       "    </tr>\n",
       "    <tr>\n",
       "      <th>3544</th>\n",
       "      <td>Islandia</td>\n",
       "      <td>ISL</td>\n",
       "      <td>2008</td>\n",
       "      <td>0.0</td>\n",
       "    </tr>\n",
       "    <tr>\n",
       "      <th>3579</th>\n",
       "      <td>Mónaco</td>\n",
       "      <td>MCO</td>\n",
       "      <td>2008</td>\n",
       "      <td>0.0</td>\n",
       "    </tr>\n",
       "    <tr>\n",
       "      <th>3642</th>\n",
       "      <td>San Marino</td>\n",
       "      <td>SMR</td>\n",
       "      <td>2008</td>\n",
       "      <td>0.0</td>\n",
       "    </tr>\n",
       "    <tr>\n",
       "      <th>3675</th>\n",
       "      <td>Tuvalu</td>\n",
       "      <td>TUV</td>\n",
       "      <td>2008</td>\n",
       "      <td>0.0</td>\n",
       "    </tr>\n",
       "    <tr>\n",
       "      <th>3831</th>\n",
       "      <td>Liechtenstein</td>\n",
       "      <td>LIE</td>\n",
       "      <td>2009</td>\n",
       "      <td>0.0</td>\n",
       "    </tr>\n",
       "    <tr>\n",
       "      <th>3906</th>\n",
       "      <td>San Marino</td>\n",
       "      <td>SMR</td>\n",
       "      <td>2009</td>\n",
       "      <td>0.0</td>\n",
       "    </tr>\n",
       "    <tr>\n",
       "      <th>3939</th>\n",
       "      <td>Tuvalu</td>\n",
       "      <td>TUV</td>\n",
       "      <td>2009</td>\n",
       "      <td>0.0</td>\n",
       "    </tr>\n",
       "    <tr>\n",
       "      <th>4170</th>\n",
       "      <td>San Marino</td>\n",
       "      <td>SMR</td>\n",
       "      <td>2010</td>\n",
       "      <td>0.0</td>\n",
       "    </tr>\n",
       "    <tr>\n",
       "      <th>4359</th>\n",
       "      <td>Liechtenstein</td>\n",
       "      <td>LIE</td>\n",
       "      <td>2011</td>\n",
       "      <td>0.0</td>\n",
       "    </tr>\n",
       "    <tr>\n",
       "      <th>4434</th>\n",
       "      <td>San Marino</td>\n",
       "      <td>SMR</td>\n",
       "      <td>2011</td>\n",
       "      <td>0.0</td>\n",
       "    </tr>\n",
       "    <tr>\n",
       "      <th>4492</th>\n",
       "      <td>Andorra</td>\n",
       "      <td>AND</td>\n",
       "      <td>2012</td>\n",
       "      <td>0.0</td>\n",
       "    </tr>\n",
       "    <tr>\n",
       "      <th>4623</th>\n",
       "      <td>Liechtenstein</td>\n",
       "      <td>LIE</td>\n",
       "      <td>2012</td>\n",
       "      <td>0.0</td>\n",
       "    </tr>\n",
       "    <tr>\n",
       "      <th>4630</th>\n",
       "      <td>Luxemburgo</td>\n",
       "      <td>LUX</td>\n",
       "      <td>2012</td>\n",
       "      <td>0.0</td>\n",
       "    </tr>\n",
       "    <tr>\n",
       "      <th>4756</th>\n",
       "      <td>Andorra</td>\n",
       "      <td>AND</td>\n",
       "      <td>2013</td>\n",
       "      <td>0.0</td>\n",
       "    </tr>\n",
       "    <tr>\n",
       "      <th>4887</th>\n",
       "      <td>Liechtenstein</td>\n",
       "      <td>LIE</td>\n",
       "      <td>2013</td>\n",
       "      <td>0.0</td>\n",
       "    </tr>\n",
       "    <tr>\n",
       "      <th>5020</th>\n",
       "      <td>Andorra</td>\n",
       "      <td>AND</td>\n",
       "      <td>2014</td>\n",
       "      <td>0.0</td>\n",
       "    </tr>\n",
       "    <tr>\n",
       "      <th>5160</th>\n",
       "      <td>Región Administrativa Especial de Macao, China</td>\n",
       "      <td>MAC</td>\n",
       "      <td>2014</td>\n",
       "      <td>0.0</td>\n",
       "    </tr>\n",
       "    <tr>\n",
       "      <th>5284</th>\n",
       "      <td>Andorra</td>\n",
       "      <td>AND</td>\n",
       "      <td>2015</td>\n",
       "      <td>0.0</td>\n",
       "    </tr>\n",
       "    <tr>\n",
       "      <th>5415</th>\n",
       "      <td>Liechtenstein</td>\n",
       "      <td>LIE</td>\n",
       "      <td>2015</td>\n",
       "      <td>0.0</td>\n",
       "    </tr>\n",
       "  </tbody>\n",
       "</table>\n",
       "<p>63 rows × 4 columns</p>\n",
       "</div>"
      ],
      "text/plain": [
       "                                        Country Name Country Code  Year  Rate\n",
       "112                                         Islandia          ISL  1995   0.0\n",
       "135                                    Liechtenstein          LIE  1995   0.0\n",
       "399                                    Liechtenstein          LIE  1996   0.0\n",
       "663                                    Liechtenstein          LIE  1997   0.0\n",
       "781                        Islas Vírgenes Británicas          VGB  1997   0.0\n",
       "817                                         Bermudas          BMU  1998   0.0\n",
       "904                                         Islandia          ISL  1998   0.0\n",
       "927                                    Liechtenstein          LIE  1998   0.0\n",
       "1018                           Islas Turcas y Caicos          TCA  1998   0.0\n",
       "1045                       Islas Vírgenes Británicas          VGB  1998   0.0\n",
       "1282                           Islas Turcas y Caicos          TCA  1999   0.0\n",
       "1345                                        Bermudas          BMU  2000   0.0\n",
       "1455                                   Liechtenstein          LIE  2000   0.0\n",
       "1546                           Islas Turcas y Caicos          TCA  2000   0.0\n",
       "1573                       Islas Vírgenes Británicas          VGB  2000   0.0\n",
       "1719                                   Liechtenstein          LIE  2001   0.0\n",
       "1794                                      San Marino          SMR  2001   0.0\n",
       "1810                           Islas Turcas y Caicos          TCA  2001   0.0\n",
       "1898                                    Islas Caimán          CYM  2002   0.0\n",
       "1983                                   Liechtenstein          LIE  2002   0.0\n",
       "2091                                          Tuvalu          TUV  2002   0.0\n",
       "2224                                        Islandia          ISL  2003   0.0\n",
       "2247                                   Liechtenstein          LIE  2003   0.0\n",
       "2269                                           Malta          MLT  2003   0.0\n",
       "2322                                      San Marino          SMR  2003   0.0\n",
       "2338                           Islas Turcas y Caicos          TCA  2003   0.0\n",
       "2355                                          Tuvalu          TUV  2003   0.0\n",
       "2586                                      San Marino          SMR  2004   0.0\n",
       "2602                           Islas Turcas y Caicos          TCA  2004   0.0\n",
       "2619                                          Tuvalu          TUV  2004   0.0\n",
       "...                                              ...          ...   ...   ...\n",
       "2883                                          Tuvalu          TUV  2005   0.0\n",
       "3016                                        Islandia          ISL  2006   0.0\n",
       "3039                                   Liechtenstein          LIE  2006   0.0\n",
       "3061                                           Malta          MLT  2006   0.0\n",
       "3114                                      San Marino          SMR  2006   0.0\n",
       "3147                                          Tuvalu          TUV  2006   0.0\n",
       "3172                                         Andorra          AND  2007   0.0\n",
       "3303                                   Liechtenstein          LIE  2007   0.0\n",
       "3315                                          Mónaco          MCO  2007   0.0\n",
       "3378                                      San Marino          SMR  2007   0.0\n",
       "3411                                          Tuvalu          TUV  2007   0.0\n",
       "3544                                        Islandia          ISL  2008   0.0\n",
       "3579                                          Mónaco          MCO  2008   0.0\n",
       "3642                                      San Marino          SMR  2008   0.0\n",
       "3675                                          Tuvalu          TUV  2008   0.0\n",
       "3831                                   Liechtenstein          LIE  2009   0.0\n",
       "3906                                      San Marino          SMR  2009   0.0\n",
       "3939                                          Tuvalu          TUV  2009   0.0\n",
       "4170                                      San Marino          SMR  2010   0.0\n",
       "4359                                   Liechtenstein          LIE  2011   0.0\n",
       "4434                                      San Marino          SMR  2011   0.0\n",
       "4492                                         Andorra          AND  2012   0.0\n",
       "4623                                   Liechtenstein          LIE  2012   0.0\n",
       "4630                                      Luxemburgo          LUX  2012   0.0\n",
       "4756                                         Andorra          AND  2013   0.0\n",
       "4887                                   Liechtenstein          LIE  2013   0.0\n",
       "5020                                         Andorra          AND  2014   0.0\n",
       "5160  Región Administrativa Especial de Macao, China          MAC  2014   0.0\n",
       "5284                                         Andorra          AND  2015   0.0\n",
       "5415                                   Liechtenstein          LIE  2015   0.0\n",
       "\n",
       "[63 rows x 4 columns]"
      ]
     },
     "execution_count": 350,
     "metadata": {},
     "output_type": "execute_result"
    }
   ],
   "source": [
    "# Lowest rates of homicides in 1995-2015 period (including Rate 0)\n",
    "df4[df4['Rate'] == np.min(df4['Rate'])]"
   ]
  },
  {
   "cell_type": "code",
   "execution_count": 351,
   "metadata": {},
   "outputs": [
    {
     "data": {
      "text/plain": [
       "array(['Islandia', 'Liechtenstein', 'Islas Vírgenes Británicas',\n",
       "       'Bermudas', 'Islas Turcas y Caicos', 'San Marino', 'Islas Caimán',\n",
       "       'Tuvalu', 'Malta', 'Andorra', 'Mónaco', 'Luxemburgo',\n",
       "       'Región Administrativa Especial de Macao, China'], dtype=object)"
      ]
     },
     "execution_count": 351,
     "metadata": {},
     "output_type": "execute_result"
    }
   ],
   "source": [
    "# Countries with the lowest homicides rates in 1995-2015 period\n",
    "df4[df4['Rate'] == np.min(df4['Rate'])]['Country Name'].unique()"
   ]
  },
  {
   "cell_type": "code",
   "execution_count": 360,
   "metadata": {},
   "outputs": [
    {
     "data": {
      "text/html": [
       "<div>\n",
       "<style>\n",
       "    .dataframe thead tr:only-child th {\n",
       "        text-align: right;\n",
       "    }\n",
       "\n",
       "    .dataframe thead th {\n",
       "        text-align: left;\n",
       "    }\n",
       "\n",
       "    .dataframe tbody tr th {\n",
       "        vertical-align: top;\n",
       "    }\n",
       "</style>\n",
       "<table border=\"1\" class=\"dataframe\">\n",
       "  <thead>\n",
       "    <tr style=\"text-align: right;\">\n",
       "      <th></th>\n",
       "      <th>Country Name</th>\n",
       "      <th>Country Code</th>\n",
       "      <th>Year</th>\n",
       "      <th>Rate</th>\n",
       "    </tr>\n",
       "  </thead>\n",
       "  <tbody>\n",
       "    <tr>\n",
       "      <th>1429</th>\n",
       "      <td>Irlanda</td>\n",
       "      <td>IRL</td>\n",
       "      <td>2000</td>\n",
       "      <td>0.1</td>\n",
       "    </tr>\n",
       "    <tr>\n",
       "      <th>1805</th>\n",
       "      <td>Suecia</td>\n",
       "      <td>SWE</td>\n",
       "      <td>2001</td>\n",
       "      <td>0.1</td>\n",
       "    </tr>\n",
       "  </tbody>\n",
       "</table>\n",
       "</div>"
      ],
      "text/plain": [
       "     Country Name Country Code  Year  Rate\n",
       "1429      Irlanda          IRL  2000   0.1\n",
       "1805       Suecia          SWE  2001   0.1"
      ]
     },
     "execution_count": 360,
     "metadata": {},
     "output_type": "execute_result"
    }
   ],
   "source": [
    "# Lowest homicides rates in 1995-2015 period (No including Rate 0)\n",
    "min_rate = np.min(df4[df4['Rate'] != 0.0])['Rate']\n",
    "df4[df4['Rate'] == min_rate]"
   ]
  },
  {
   "cell_type": "code",
   "execution_count": 259,
   "metadata": {},
   "outputs": [
    {
     "data": {
      "text/html": [
       "<div>\n",
       "<style>\n",
       "    .dataframe thead tr:only-child th {\n",
       "        text-align: right;\n",
       "    }\n",
       "\n",
       "    .dataframe thead th {\n",
       "        text-align: left;\n",
       "    }\n",
       "\n",
       "    .dataframe tbody tr th {\n",
       "        vertical-align: top;\n",
       "    }\n",
       "</style>\n",
       "<table border=\"1\" class=\"dataframe\">\n",
       "  <thead>\n",
       "    <tr style=\"text-align: right;\">\n",
       "      <th></th>\n",
       "      <th>Rate</th>\n",
       "    </tr>\n",
       "    <tr>\n",
       "      <th>Country Name</th>\n",
       "      <th></th>\n",
       "    </tr>\n",
       "  </thead>\n",
       "  <tbody>\n",
       "    <tr>\n",
       "      <th>El Salvador</th>\n",
       "      <td>68.448663</td>\n",
       "    </tr>\n",
       "    <tr>\n",
       "      <th>Honduras</th>\n",
       "      <td>63.675544</td>\n",
       "    </tr>\n",
       "    <tr>\n",
       "      <th>Colombia</th>\n",
       "      <td>47.348628</td>\n",
       "    </tr>\n",
       "    <tr>\n",
       "      <th>Jamaica</th>\n",
       "      <td>44.546653</td>\n",
       "    </tr>\n",
       "    <tr>\n",
       "      <th>Iraq</th>\n",
       "      <td>43.366667</td>\n",
       "    </tr>\n",
       "  </tbody>\n",
       "</table>\n",
       "</div>"
      ],
      "text/plain": [
       "                   Rate\n",
       "Country Name           \n",
       "El Salvador   68.448663\n",
       "Honduras      63.675544\n",
       "Colombia      47.348628\n",
       "Jamaica       44.546653\n",
       "Iraq          43.366667"
      ]
     },
     "execution_count": 259,
     "metadata": {},
     "output_type": "execute_result"
    }
   ],
   "source": [
    "# Five most violent countries in the period 1995-2015 in terms of homicides rate (per 100.000 people)\n",
    "df4.groupby(['Country Name']).mean().sort_values(by='Rate',ascending=False).head()"
   ]
  },
  {
   "cell_type": "code",
   "execution_count": 283,
   "metadata": {},
   "outputs": [
    {
     "data": {
      "text/html": [
       "<div>\n",
       "<style>\n",
       "    .dataframe thead tr:only-child th {\n",
       "        text-align: right;\n",
       "    }\n",
       "\n",
       "    .dataframe thead th {\n",
       "        text-align: left;\n",
       "    }\n",
       "\n",
       "    .dataframe tbody tr th {\n",
       "        vertical-align: top;\n",
       "    }\n",
       "</style>\n",
       "<table border=\"1\" class=\"dataframe\">\n",
       "  <thead>\n",
       "    <tr style=\"text-align: right;\">\n",
       "      <th></th>\n",
       "      <th></th>\n",
       "      <th>Country Code</th>\n",
       "      <th>Rate</th>\n",
       "    </tr>\n",
       "    <tr>\n",
       "      <th>Country Name</th>\n",
       "      <th>Year</th>\n",
       "      <th></th>\n",
       "      <th></th>\n",
       "    </tr>\n",
       "  </thead>\n",
       "  <tbody>\n",
       "    <tr>\n",
       "      <th rowspan=\"5\" valign=\"top\">El Salvador</th>\n",
       "      <th>1995</th>\n",
       "      <td>SLV</td>\n",
       "      <td>139.132079</td>\n",
       "    </tr>\n",
       "    <tr>\n",
       "      <th>1996</th>\n",
       "      <td>SLV</td>\n",
       "      <td>117.277282</td>\n",
       "    </tr>\n",
       "    <tr>\n",
       "      <th>1997</th>\n",
       "      <td>SLV</td>\n",
       "      <td>112.568660</td>\n",
       "    </tr>\n",
       "    <tr>\n",
       "      <th>2015</th>\n",
       "      <td>SLV</td>\n",
       "      <td>108.600000</td>\n",
       "    </tr>\n",
       "    <tr>\n",
       "      <th>1998</th>\n",
       "      <td>SLV</td>\n",
       "      <td>94.996731</td>\n",
       "    </tr>\n",
       "  </tbody>\n",
       "</table>\n",
       "</div>"
      ],
      "text/plain": [
       "                  Country Code        Rate\n",
       "Country Name Year                         \n",
       "El Salvador  1995          SLV  139.132079\n",
       "             1996          SLV  117.277282\n",
       "             1997          SLV  112.568660\n",
       "             2015          SLV  108.600000\n",
       "             1998          SLV   94.996731"
      ]
     },
     "execution_count": 283,
     "metadata": {},
     "output_type": "execute_result"
    }
   ],
   "source": [
    "# Homicides rate by country and year and sorted by rate descending. Remove head() from the code if want to see all results\n",
    "df4.groupby(['Country Name','Year']).max().sort_values(by='Rate',ascending=False).head()"
   ]
  },
  {
   "cell_type": "markdown",
   "metadata": {},
   "source": [
    "**Visualizing Data**"
   ]
  },
  {
   "cell_type": "code",
   "execution_count": 361,
   "metadata": {
    "collapsed": true
   },
   "outputs": [],
   "source": [
    "df4['Year'] = df4['Year'].apply(int)"
   ]
  },
  {
   "cell_type": "code",
   "execution_count": 421,
   "metadata": {},
   "outputs": [
    {
     "data": {
      "text/plain": [
       "<seaborn.axisgrid.FacetGrid at 0x440c4365f8>"
      ]
     },
     "execution_count": 421,
     "metadata": {},
     "output_type": "execute_result"
    },
    {
     "data": {
      "image/png": "[encoded data removed]",
      "text/plain": [
       "<matplotlib.figure.Figure at 0x440c42c898>"
      ]
     },
     "metadata": {},
     "output_type": "display_data"
    }
   ],
   "source": [
    "sns.lmplot(x='Year',y='Rate',data=df4[df4['Country Name'] == 'El Salvador'])"
   ]
  },
  {
   "cell_type": "code",
   "execution_count": 365,
   "metadata": {},
   "outputs": [
    {
     "data": {
      "text/plain": [
       "<seaborn.axisgrid.FacetGrid at 0x44002a2ef0>"
      ]
     },
     "execution_count": 365,
     "metadata": {},
     "output_type": "execute_result"
    },
    {
     "data": {
      "image/png": "[encoded data removed]",
      "text/plain": [
       "<matplotlib.figure.Figure at 0x44002a24e0>"
      ]
     },
     "metadata": {},
     "output_type": "display_data"
    }
   ],
   "source": [
    "sns.lmplot(x='Year',y='Rate',data=df4[df4['Country Name'] == 'Colombia'])"
   ]
  },
  {
   "cell_type": "code",
   "execution_count": 371,
   "metadata": {},
   "outputs": [
    {
     "data": {
      "text/plain": [
       "<seaborn.axisgrid.FacetGrid at 0x447ff42d68>"
      ]
     },
     "execution_count": 371,
     "metadata": {},
     "output_type": "execute_result"
    },
    {
     "data": {
      "image/png": "[encoded data removed]",
      "text/plain": [
       "<matplotlib.figure.Figure at 0x447ff420f0>"
      ]
     },
     "metadata": {},
     "output_type": "display_data"
    }
   ],
   "source": [
    "sns.lmplot(x='Year',y='Rate',data=df4[df4['Country Name'] == 'Chile'])"
   ]
  },
  {
   "cell_type": "code",
   "execution_count": 377,
   "metadata": {},
   "outputs": [
    {
     "data": {
      "text/html": [
       "<div>\n",
       "<style>\n",
       "    .dataframe thead tr:only-child th {\n",
       "        text-align: right;\n",
       "    }\n",
       "\n",
       "    .dataframe thead th {\n",
       "        text-align: left;\n",
       "    }\n",
       "\n",
       "    .dataframe tbody tr th {\n",
       "        vertical-align: top;\n",
       "    }\n",
       "</style>\n",
       "<table border=\"1\" class=\"dataframe\">\n",
       "  <thead>\n",
       "    <tr style=\"text-align: right;\">\n",
       "      <th></th>\n",
       "      <th>Rate</th>\n",
       "    </tr>\n",
       "    <tr>\n",
       "      <th>Year</th>\n",
       "      <th></th>\n",
       "    </tr>\n",
       "  </thead>\n",
       "  <tbody>\n",
       "    <tr>\n",
       "      <th>1995</th>\n",
       "      <td>10.668115</td>\n",
       "    </tr>\n",
       "    <tr>\n",
       "      <th>1996</th>\n",
       "      <td>10.124165</td>\n",
       "    </tr>\n",
       "    <tr>\n",
       "      <th>1997</th>\n",
       "      <td>9.926572</td>\n",
       "    </tr>\n",
       "    <tr>\n",
       "      <th>2002</th>\n",
       "      <td>9.054717</td>\n",
       "    </tr>\n",
       "    <tr>\n",
       "      <th>2009</th>\n",
       "      <td>8.748734</td>\n",
       "    </tr>\n",
       "    <tr>\n",
       "      <th>1998</th>\n",
       "      <td>8.736466</td>\n",
       "    </tr>\n",
       "    <tr>\n",
       "      <th>2000</th>\n",
       "      <td>8.596264</td>\n",
       "    </tr>\n",
       "    <tr>\n",
       "      <th>2010</th>\n",
       "      <td>8.571204</td>\n",
       "    </tr>\n",
       "    <tr>\n",
       "      <th>2001</th>\n",
       "      <td>8.559515</td>\n",
       "    </tr>\n",
       "    <tr>\n",
       "      <th>2007</th>\n",
       "      <td>8.539726</td>\n",
       "    </tr>\n",
       "    <tr>\n",
       "      <th>1999</th>\n",
       "      <td>8.418676</td>\n",
       "    </tr>\n",
       "    <tr>\n",
       "      <th>2003</th>\n",
       "      <td>8.410169</td>\n",
       "    </tr>\n",
       "    <tr>\n",
       "      <th>2008</th>\n",
       "      <td>8.341401</td>\n",
       "    </tr>\n",
       "    <tr>\n",
       "      <th>2006</th>\n",
       "      <td>8.267883</td>\n",
       "    </tr>\n",
       "    <tr>\n",
       "      <th>2012</th>\n",
       "      <td>8.265746</td>\n",
       "    </tr>\n",
       "    <tr>\n",
       "      <th>2005</th>\n",
       "      <td>8.204938</td>\n",
       "    </tr>\n",
       "    <tr>\n",
       "      <th>2011</th>\n",
       "      <td>8.101449</td>\n",
       "    </tr>\n",
       "    <tr>\n",
       "      <th>2004</th>\n",
       "      <td>8.055814</td>\n",
       "    </tr>\n",
       "    <tr>\n",
       "      <th>2015</th>\n",
       "      <td>7.843949</td>\n",
       "    </tr>\n",
       "    <tr>\n",
       "      <th>2014</th>\n",
       "      <td>7.336913</td>\n",
       "    </tr>\n",
       "    <tr>\n",
       "      <th>2013</th>\n",
       "      <td>6.734579</td>\n",
       "    </tr>\n",
       "  </tbody>\n",
       "</table>\n",
       "</div>"
      ],
      "text/plain": [
       "           Rate\n",
       "Year           \n",
       "1995  10.668115\n",
       "1996  10.124165\n",
       "1997   9.926572\n",
       "2002   9.054717\n",
       "2009   8.748734\n",
       "1998   8.736466\n",
       "2000   8.596264\n",
       "2010   8.571204\n",
       "2001   8.559515\n",
       "2007   8.539726\n",
       "1999   8.418676\n",
       "2003   8.410169\n",
       "2008   8.341401\n",
       "2006   8.267883\n",
       "2012   8.265746\n",
       "2005   8.204938\n",
       "2011   8.101449\n",
       "2004   8.055814\n",
       "2015   7.843949\n",
       "2014   7.336913\n",
       "2013   6.734579"
      ]
     },
     "execution_count": 377,
     "metadata": {},
     "output_type": "execute_result"
    }
   ],
   "source": [
    "# Most violent years in 1995-2015 period\n",
    "df4.groupby('Year').mean().sort_values(by='Rate',ascending=False)"
   ]
  },
  {
   "cell_type": "code",
   "execution_count": 420,
   "metadata": {},
   "outputs": [
    {
     "data": {
      "text/plain": [
       "<seaborn.axisgrid.FacetGrid at 0x440c5e3a58>"
      ]
     },
     "execution_count": 420,
     "metadata": {},
     "output_type": "execute_result"
    },
    {
     "data": {
      "image/png": "[encoded data removed]",
      "text/plain": [
       "<matplotlib.figure.Figure at 0x440c971f60>"
      ]
     },
     "metadata": {},
     "output_type": "display_data"
    }
   ],
   "source": [
    "# 1995. Most violent year in terms of homicides rate in 1995-2015 period\n",
    "g = sns.factorplot(x='Country Name',y='Rate',data=df4[df4['Year']==1995],size=6,aspect=2,kind='bar')\n",
    "g.set_xticklabels(df4['Country Name'].unique(),rotation=90) "
   ]
  },
  {
   "cell_type": "code",
   "execution_count": 423,
   "metadata": {},
   "outputs": [],
   "source": [
    "# Import plotly libraries that allow to create choropleth maps\n",
    "import plotly.graph_objs as go \n",
    "from plotly.offline import download_plotlyjs, init_notebook_mode, plot, iplot"
   ]
  },
  {
   "cell_type": "code",
   "execution_count": 424,
   "metadata": {},
   "outputs": [
    {
     "data": {
      "text/html": [
       "<script>requirejs.config({paths: { 'plotly': ['https://cdn.plot.ly/plotly-latest.min']},});if(!window.Plotly) {{require(['plotly'],function(plotly) {window.Plotly=plotly;});}}</script>"
      ],
      "text/vnd.plotly.v1+html": [
       "<script>requirejs.config({paths: { 'plotly': ['https://cdn.plot.ly/plotly-latest.min']},});if(!window.Plotly) {{require(['plotly'],function(plotly) {window.Plotly=plotly;});}}</script>"
      ]
     },
     "metadata": {},
     "output_type": "display_data"
    }
   ],
   "source": [
    "# This line is necessary to work with plotly offline. Otherwise, one would need to have an account on plotly website\n",
    "init_notebook_mode(connected=True) "
   ]
  },
  {
   "cell_type": "code",
   "execution_count": 449,
   "metadata": {},
   "outputs": [],
   "source": [
    "# Filter data for year 1995\n",
    "df4_1995 = df4[df4['Year']==1995]\n",
    "# Create a data object. This is required by plotly.\n",
    "data = dict(\n",
    "        type = 'choropleth',\n",
    "        locationmode = 'worldwide',\n",
    "        locations = df4_1995['Country Code'],\n",
    "        z = df4_1995['Rate'],\n",
    "        text = df4_1995['Country Name'],\n",
    "        colorbar = {'title' : 'Homicide Rates'},\n",
    "      ) "
   ]
  },
  {
   "cell_type": "code",
   "execution_count": 450,
   "metadata": {
    "collapsed": true
   },
   "outputs": [],
   "source": [
    "# Create a layout object. This is required by plotly.\n",
    "layout = dict(\n",
    "    title = 'Intentional Homicide Rates - 1995',\n",
    "    geo = dict(\n",
    "        showframe = False,\n",
    "        projection = {'type':'Mercator'}\n",
    "    )\n",
    ")"
   ]
  },
  {
   "cell_type": "code",
   "execution_count": 451,
   "metadata": {},
   "outputs": [
    {
     "data": {
      "application/vnd.plotly.v1+json": {
       "data": [
        {
         "colorbar": {
          "title": "Homicide Rates"
         },
         "locationmode": "worldwide",
         "locations": [
          "ALB",
          "ARG",
          "ARM",
          "AUS",
          "AUT",
          "BGR",
          "BLR",
          "CAN",
          "CHE",
          "COL",
          "CRI",
          "CZE",
          "DEU",
          "DNK",
          "DOM",
          "ESP",
          "EST",
          "FIN",
          "FRA",
          "GBR",
          "GEO",
          "GRC",
          "GTM",
          "GUY",
          "HRV",
          "HUN",
          "IND",
          "IRL",
          "ISL",
          "ISR",
          "ITA",
          "JAM",
          "JPN",
          "KAZ",
          "KGZ",
          "KHM",
          "KNA",
          "LIE",
          "LTU",
          "LUX",
          "LVA",
          "MDA",
          "MEX",
          "MUS",
          "MYS",
          "NAM",
          "NIC",
          "NLD",
          "NOR",
          "NZL",
          "PAN",
          "POL",
          "PRI",
          "PSE",
          "ROU",
          "SGP",
          "SLV",
          "SVK",
          "SVN",
          "SWE",
          "THA",
          "TJK",
          "TKM",
          "UKR",
          "USA",
          "UZB",
          "VCT",
          "VEN",
          "ZAF"
         ],
         "text": [
          "Albania",
          "Argentina",
          "Armenia",
          "Australia",
          "Austria",
          "Bulgaria",
          "Belarús",
          "Canadá",
          "Suiza",
          "Colombia",
          "Costa Rica",
          "República Checa",
          "Alemania",
          "Dinamarca",
          "República Dominicana",
          "España",
          "Estonia",
          "Finlandia",
          "Francia",
          "Reino Unido",
          "Georgia",
          "Grecia",
          "Guatemala",
          "Guyana",
          "Croacia",
          "Hungría",
          "India",
          "Irlanda",
          "Islandia",
          "Israel",
          "Italia",
          "Jamaica",
          "Japón",
          "Kazajstán",
          "Kirguistán",
          "Camboya",
          "Saint Kitts y Nevis",
          "Liechtenstein",
          "Lituania",
          "Luxemburgo",
          "Letonia",
          "República de Moldova",
          "México",
          "Mauricio",
          "Malasia",
          "Namibia",
          "Nicaragua",
          "Países Bajos",
          "Noruega",
          "Nueva Zelandia",
          "Panamá",
          "Polonia",
          "Puerto Rico",
          "Ribera Occidental y Gaza",
          "Rumania",
          "Singapur",
          "El Salvador",
          "República Eslovaca",
          "Eslovenia",
          "Suecia",
          "Tailandia",
          "Tayikistán",
          "Turkmenistán",
          "Ucrania",
          "Estados Unidos",
          "Uzbekistán",
          "San Vicente y las Granadinas",
          "Venezuela",
          "Sudáfrica"
         ],
         "type": "choropleth",
         "z": [
          6.685551758586639,
          7.812329652194969,
          3.59893806506818,
          1.79927428534592,
          1.03331508650107,
          5.91147812800959,
          9.343764998081118,
          1.83604638194433,
          1.16830718842316,
          69.6726338112749,
          5.304247606890679,
          1.70553592735657,
          1.71611081784386,
          1.14649009700071,
          12.720574702175,
          1.0424372395713999,
          17.0749144519022,
          2.8583723488107,
          2.30964046176144,
          1.46863785301919,
          7.71314365049478,
          1.41494286488823,
          32.5489794746735,
          14.9729593848174,
          3.5553644130725197,
          2.8650513391066097,
          4.366262779583391,
          1.19081972152542,
          0,
          2.10049400993496,
          1.7764346776970903,
          31.687789151076004,
          0.543833004420133,
          15.3649540781269,
          11.650354355871501,
          3.5544070035964,
          9.27622272210756,
          0,
          13.8326154334513,
          0.490771050397279,
          11.5565417851246,
          9.104004609622589,
          16.919404883017002,
          2.19857919018414,
          1.91112220033869,
          22.587552502434395,
          15.2467953694598,
          1.93876800047205,
          0.9864430606712951,
          1.0884176040663298,
          14.083317954997598,
          2.22182989284841,
          23.341144332019102,
          1.19401191469825,
          3.3420110988276805,
          1.46481261600023,
          139.132078848139,
          2.3841036906297597,
          2.23781345281901,
          0.9403022493955729,
          7.6143973937905995,
          7.53194062268198,
          6.42309832115969,
          8.62060162996857,
          8.11268340776424,
          5.04813464007738,
          18.503612830405103,
          20.335913345501,
          64.9165265781694
         ]
        }
       ],
       "layout": {
        "geo": {
         "projection": {
          "type": "Mercator"
         },
         "showframe": false
        },
        "title": "Intentional Homicide Rates - 1995"
       }
      },
      "text/html": [
       "<div id=\"322e6d50-68bf-4107-b92a-e34c7e7a1e6e\" style=\"height: 525px; width: 100%;\" class=\"plotly-graph-div\"></div><script type=\"text/javascript\">require([\"plotly\"], function(Plotly) { window.PLOTLYENV=window.PLOTLYENV || {};window.PLOTLYENV.BASE_URL=\"https://plot.ly\";Plotly.newPlot(\"322e6d50-68bf-4107-b92a-e34c7e7a1e6e\", [{\"type\": \"choropleth\", \"locationmode\": \"worldwide\", \"locations\": [\"ALB\", \"ARG\", \"ARM\", \"AUS\", \"AUT\", \"BGR\", \"BLR\", \"CAN\", \"CHE\", \"COL\", \"CRI\", \"CZE\", \"DEU\", \"DNK\", \"DOM\", \"ESP\", \"EST\", \"FIN\", \"FRA\", \"GBR\", \"GEO\", \"GRC\", \"GTM\", \"GUY\", \"HRV\", \"HUN\", \"IND\", \"IRL\", \"ISL\", \"ISR\", \"ITA\", \"JAM\", \"JPN\", \"KAZ\", \"KGZ\", \"KHM\", \"KNA\", \"LIE\", \"LTU\", \"LUX\", \"LVA\", \"MDA\", \"MEX\", \"MUS\", \"MYS\", \"NAM\", \"NIC\", \"NLD\", \"NOR\", \"NZL\", \"PAN\", \"POL\", \"PRI\", \"PSE\", \"ROU\", \"SGP\", \"SLV\", \"SVK\", \"SVN\", \"SWE\", \"THA\", \"TJK\", \"TKM\", \"UKR\", \"USA\", \"UZB\", \"VCT\", \"VEN\", \"ZAF\"], \"z\": [6.685551758586639, 7.812329652194969, 3.59893806506818, 1.79927428534592, 1.03331508650107, 5.91147812800959, 9.343764998081118, 1.83604638194433, 1.16830718842316, 69.6726338112749, 5.304247606890679, 1.70553592735657, 1.71611081784386, 1.14649009700071, 12.720574702175, 1.0424372395713999, 17.0749144519022, 2.8583723488107, 2.30964046176144, 1.46863785301919, 7.71314365049478, 1.41494286488823, 32.5489794746735, 14.9729593848174, 3.5553644130725197, 2.8650513391066097, 4.366262779583391, 1.19081972152542, 0.0, 2.10049400993496, 1.7764346776970903, 31.687789151076004, 0.543833004420133, 15.3649540781269, 11.650354355871501, 3.5544070035964, 9.27622272210756, 0.0, 13.8326154334513, 0.490771050397279, 11.5565417851246, 9.104004609622589, 16.919404883017002, 2.19857919018414, 1.91112220033869, 22.587552502434395, 15.2467953694598, 1.93876800047205, 0.9864430606712951, 1.0884176040663298, 14.083317954997598, 2.22182989284841, 23.341144332019102, 1.19401191469825, 3.3420110988276805, 1.46481261600023, 139.132078848139, 2.3841036906297597, 2.23781345281901, 0.9403022493955729, 7.6143973937905995, 7.53194062268198, 6.42309832115969, 8.62060162996857, 8.11268340776424, 5.04813464007738, 18.503612830405103, 20.335913345501, 64.9165265781694], \"text\": [\"Albania\", \"Argentina\", \"Armenia\", \"Australia\", \"Austria\", \"Bulgaria\", \"Belar\\u00fas\", \"Canad\\u00e1\", \"Suiza\", \"Colombia\", \"Costa Rica\", \"Rep\\u00fablica Checa\", \"Alemania\", \"Dinamarca\", \"Rep\\u00fablica Dominicana\", \"Espa\\u00f1a\", \"Estonia\", \"Finlandia\", \"Francia\", \"Reino Unido\", \"Georgia\", \"Grecia\", \"Guatemala\", \"Guyana\", \"Croacia\", \"Hungr\\u00eda\", \"India\", \"Irlanda\", \"Islandia\", \"Israel\", \"Italia\", \"Jamaica\", \"Jap\\u00f3n\", \"Kazajst\\u00e1n\", \"Kirguist\\u00e1n\", \"Camboya\", \"Saint Kitts y Nevis\", \"Liechtenstein\", \"Lituania\", \"Luxemburgo\", \"Letonia\", \"Rep\\u00fablica de Moldova\", \"M\\u00e9xico\", \"Mauricio\", \"Malasia\", \"Namibia\", \"Nicaragua\", \"Pa\\u00edses Bajos\", \"Noruega\", \"Nueva Zelandia\", \"Panam\\u00e1\", \"Polonia\", \"Puerto Rico\", \"Ribera Occidental y Gaza\", \"Rumania\", \"Singapur\", \"El Salvador\", \"Rep\\u00fablica Eslovaca\", \"Eslovenia\", \"Suecia\", \"Tailandia\", \"Tayikist\\u00e1n\", \"Turkmenist\\u00e1n\", \"Ucrania\", \"Estados Unidos\", \"Uzbekist\\u00e1n\", \"San Vicente y las Granadinas\", \"Venezuela\", \"Sud\\u00e1frica\"], \"colorbar\": {\"title\": \"Homicide Rates\"}}], {\"title\": \"Intentional Homicide Rates - 1995\", \"geo\": {\"showframe\": false, \"projection\": {\"type\": \"Mercator\"}}}, {\"showLink\": true, \"linkText\": \"Export to plot.ly\"})});</script>"
      ],
      "text/vnd.plotly.v1+html": [
       "<div id=\"322e6d50-68bf-4107-b92a-e34c7e7a1e6e\" style=\"height: 525px; width: 100%;\" class=\"plotly-graph-div\"></div><script type=\"text/javascript\">require([\"plotly\"], function(Plotly) { window.PLOTLYENV=window.PLOTLYENV || {};window.PLOTLYENV.BASE_URL=\"https://plot.ly\";Plotly.newPlot(\"322e6d50-68bf-4107-b92a-e34c7e7a1e6e\", [{\"type\": \"choropleth\", \"locationmode\": \"worldwide\", \"locations\": [\"ALB\", \"ARG\", \"ARM\", \"AUS\", \"AUT\", \"BGR\", \"BLR\", \"CAN\", \"CHE\", \"COL\", \"CRI\", \"CZE\", \"DEU\", \"DNK\", \"DOM\", \"ESP\", \"EST\", \"FIN\", \"FRA\", \"GBR\", \"GEO\", \"GRC\", \"GTM\", \"GUY\", \"HRV\", \"HUN\", \"IND\", \"IRL\", \"ISL\", \"ISR\", \"ITA\", \"JAM\", \"JPN\", \"KAZ\", \"KGZ\", \"KHM\", \"KNA\", \"LIE\", \"LTU\", \"LUX\", \"LVA\", \"MDA\", \"MEX\", \"MUS\", \"MYS\", \"NAM\", \"NIC\", \"NLD\", \"NOR\", \"NZL\", \"PAN\", \"POL\", \"PRI\", \"PSE\", \"ROU\", \"SGP\", \"SLV\", \"SVK\", \"SVN\", \"SWE\", \"THA\", \"TJK\", \"TKM\", \"UKR\", \"USA\", \"UZB\", \"VCT\", \"VEN\", \"ZAF\"], \"z\": [6.685551758586639, 7.812329652194969, 3.59893806506818, 1.79927428534592, 1.03331508650107, 5.91147812800959, 9.343764998081118, 1.83604638194433, 1.16830718842316, 69.6726338112749, 5.304247606890679, 1.70553592735657, 1.71611081784386, 1.14649009700071, 12.720574702175, 1.0424372395713999, 17.0749144519022, 2.8583723488107, 2.30964046176144, 1.46863785301919, 7.71314365049478, 1.41494286488823, 32.5489794746735, 14.9729593848174, 3.5553644130725197, 2.8650513391066097, 4.366262779583391, 1.19081972152542, 0.0, 2.10049400993496, 1.7764346776970903, 31.687789151076004, 0.543833004420133, 15.3649540781269, 11.650354355871501, 3.5544070035964, 9.27622272210756, 0.0, 13.8326154334513, 0.490771050397279, 11.5565417851246, 9.104004609622589, 16.919404883017002, 2.19857919018414, 1.91112220033869, 22.587552502434395, 15.2467953694598, 1.93876800047205, 0.9864430606712951, 1.0884176040663298, 14.083317954997598, 2.22182989284841, 23.341144332019102, 1.19401191469825, 3.3420110988276805, 1.46481261600023, 139.132078848139, 2.3841036906297597, 2.23781345281901, 0.9403022493955729, 7.6143973937905995, 7.53194062268198, 6.42309832115969, 8.62060162996857, 8.11268340776424, 5.04813464007738, 18.503612830405103, 20.335913345501, 64.9165265781694], \"text\": [\"Albania\", \"Argentina\", \"Armenia\", \"Australia\", \"Austria\", \"Bulgaria\", \"Belar\\u00fas\", \"Canad\\u00e1\", \"Suiza\", \"Colombia\", \"Costa Rica\", \"Rep\\u00fablica Checa\", \"Alemania\", \"Dinamarca\", \"Rep\\u00fablica Dominicana\", \"Espa\\u00f1a\", \"Estonia\", \"Finlandia\", \"Francia\", \"Reino Unido\", \"Georgia\", \"Grecia\", \"Guatemala\", \"Guyana\", \"Croacia\", \"Hungr\\u00eda\", \"India\", \"Irlanda\", \"Islandia\", \"Israel\", \"Italia\", \"Jamaica\", \"Jap\\u00f3n\", \"Kazajst\\u00e1n\", \"Kirguist\\u00e1n\", \"Camboya\", \"Saint Kitts y Nevis\", \"Liechtenstein\", \"Lituania\", \"Luxemburgo\", \"Letonia\", \"Rep\\u00fablica de Moldova\", \"M\\u00e9xico\", \"Mauricio\", \"Malasia\", \"Namibia\", \"Nicaragua\", \"Pa\\u00edses Bajos\", \"Noruega\", \"Nueva Zelandia\", \"Panam\\u00e1\", \"Polonia\", \"Puerto Rico\", \"Ribera Occidental y Gaza\", \"Rumania\", \"Singapur\", \"El Salvador\", \"Rep\\u00fablica Eslovaca\", \"Eslovenia\", \"Suecia\", \"Tailandia\", \"Tayikist\\u00e1n\", \"Turkmenist\\u00e1n\", \"Ucrania\", \"Estados Unidos\", \"Uzbekist\\u00e1n\", \"San Vicente y las Granadinas\", \"Venezuela\", \"Sud\\u00e1frica\"], \"colorbar\": {\"title\": \"Homicide Rates\"}}], {\"title\": \"Intentional Homicide Rates - 1995\", \"geo\": {\"showframe\": false, \"projection\": {\"type\": \"Mercator\"}}}, {\"showLink\": true, \"linkText\": \"Export to plot.ly\"})});</script>"
      ]
     },
     "metadata": {},
     "output_type": "display_data"
    }
   ],
   "source": [
    "# Plot choropleth map with plotly\n",
    "choromap = go.Figure(data = [data],layout = layout)\n",
    "iplot(choromap)"
   ]
  },
  {
   "cell_type": "code",
   "execution_count": 518,
   "metadata": {},
   "outputs": [],
   "source": [
    "# Merge rates dataframe with income_group dataframe (this data was loaded in df in the beggining of the notebook)\n",
    "df5 = df4.merge(df,on='Country Code')"
   ]
  },
  {
   "cell_type": "code",
   "execution_count": 519,
   "metadata": {},
   "outputs": [],
   "source": [
    "# Drop unnecessary columns\n",
    "df5.drop(['Unnamed: 4','Country Name_y'],axis=1, inplace=True)"
   ]
  },
  {
   "cell_type": "code",
   "execution_count": 527,
   "metadata": {},
   "outputs": [],
   "source": [
    "# Rename column\n",
    "df5.rename(columns={'Country Name_x':'Country Name'},inplace=True)"
   ]
  },
  {
   "cell_type": "code",
   "execution_count": 543,
   "metadata": {},
   "outputs": [
    {
     "data": {
      "text/plain": [
       "<seaborn.axisgrid.FacetGrid at 0x4419f2b128>"
      ]
     },
     "execution_count": 543,
     "metadata": {},
     "output_type": "execute_result"
    },
    {
     "data": {
      "image/png": "[encoded data removed]",
      "text/plain": [
       "<matplotlib.figure.Figure at 0x4419f18908>"
      ]
     },
     "metadata": {},
     "output_type": "display_data"
    }
   ],
   "source": [
    "# Plot homicide rate for each country in 1995, grouped by income category to which the country belongs.\n",
    "g = sns.factorplot(x='Country Name',y='Rate',hue='Income_Group',data=df5[df5['Year']==1995],size=6,aspect=2,kind='bar')\n",
    "g.set_xticklabels(df5['Country Name'].unique(),rotation=90)"
   ]
  },
  {
   "cell_type": "code",
   "execution_count": 610,
   "metadata": {},
   "outputs": [
    {
     "data": {
      "text/plain": [
       "<matplotlib.collections.PathCollection at 0x4421726e48>"
      ]
     },
     "execution_count": 610,
     "metadata": {},
     "output_type": "execute_result"
    },
    {
     "data": {
      "image/png": "[encoded data removed]",
      "text/plain": [
       "<matplotlib.figure.Figure at 0x44216edf28>"
      ]
     },
     "metadata": {},
     "output_type": "display_data"
    }
   ],
   "source": [
    "# Plot homicide rate for Colombia during 1995-2015 period. It can be seen how the rate has been decreasing over the years.\n",
    "plt.figure(figsize=(12,6))\n",
    "plt.scatter(x=df5[df5['Country Name']=='Colombia']['Year'],y=df5[df5['Country Name']=='Colombia']['Rate'],s=df5[df5['Country Name']=='Colombia']['Rate']*5,c=df5[df5['Country Name']=='Colombia']['Rate']*5, linewidth=2)"
   ]
  },
  {
   "cell_type": "code",
   "execution_count": 664,
   "metadata": {},
   "outputs": [
    {
     "data": {
      "text/plain": [
       "<seaborn.axisgrid.FacetGrid at 0x442cf16438>"
      ]
     },
     "execution_count": 664,
     "metadata": {},
     "output_type": "execute_result"
    },
    {
     "data": {
      "image/png": "[encoded data removed]",
      "text/plain": [
       "<matplotlib.figure.Figure at 0x442cf9fcf8>"
      ]
     },
     "metadata": {},
     "output_type": "display_data"
    }
   ],
   "source": [
    "# Plot homicide rate for every region measured by World Bank in the time period 1995-2015\n",
    "sns.lmplot(x='Year',y='Rate',data=df5,hue='Region',size=4,aspect=2,scatter=False)"
   ]
  },
  {
   "cell_type": "code",
   "execution_count": null,
   "metadata": {
    "collapsed": true
   },
   "outputs": [],
   "source": []
  }
 ],
 "metadata": {
  "kernelspec": {
   "display_name": "Python 3",
   "language": "python",
   "name": "python3"
  },
  "language_info": {
   "codemirror_mode": {
    "name": "ipython",
    "version": 3
   },
   "file_extension": ".py",
   "mimetype": "text/x-python",
   "name": "python",
   "nbconvert_exporter": "python",
   "pygments_lexer": "ipython3",
   "version": "3.6.3"
  }
 },
 "nbformat": 4,
 "nbformat_minor": 2
}

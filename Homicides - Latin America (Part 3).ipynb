{
 "cells": [
  {
   "cell_type": "markdown",
   "metadata": {},
   "source": [
    "# Homicides - Latin América (Part 3)"
   ]
  },
  {
   "cell_type": "markdown",
   "metadata": {},
   "source": [
    "For this part of the project, I will be using data for three different indicators: GDP per cápita, GINI per cápita and intentional homicide rates from World Bank data. This only for latin american countries.\n",
    "\n",
    "GINI -> https://data.worldbank.org/indicator/SI.POV.GINI\n",
    "\n",
    "GDP -> https://data.worldbank.org/indicator/NY.GDP.PCAP.CD\n",
    "\n",
    "Homicides rate -> https://data.worldbank.org/indicator/VC.IHR.PSRC.P5"
   ]
  },
  {
   "cell_type": "markdown",
   "metadata": {},
   "source": [
    "**Import libraries for data analysis and visualization**"
   ]
  },
  {
   "cell_type": "code",
   "execution_count": 1,
   "metadata": {
    "collapsed": true
   },
   "outputs": [],
   "source": [
    "import pandas as pd\n",
    "import numpy as np\n",
    "import seaborn as sns\n",
    "import matplotlib.pyplot as plt\n",
    "%matplotlib inline"
   ]
  },
  {
   "cell_type": "markdown",
   "metadata": {},
   "source": [
    "**Read and explore general information about data from cvs files downloaded from World Bank website**"
   ]
  },
  {
   "cell_type": "code",
   "execution_count": 2,
   "metadata": {
    "collapsed": true
   },
   "outputs": [],
   "source": [
    "gini = pd.read_csv(\"API_SI.POV.GINI_DS2_en_csv_v2/API_SI.POV.GINI_DS2_en_csv_v2.csv\",skiprows=4)"
   ]
  },
  {
   "cell_type": "code",
   "execution_count": 3,
   "metadata": {
    "collapsed": true
   },
   "outputs": [],
   "source": [
    "gdp = pd.read_csv(\"API_NY.GDP.PCAP.CD_DS2_en_csv_v2/API_NY.GDP.PCAP.CD_DS2_en_csv_v2.csv\",skiprows=4)"
   ]
  },
  {
   "cell_type": "code",
   "execution_count": 4,
   "metadata": {
    "collapsed": true
   },
   "outputs": [],
   "source": [
    "ihr = pd.read_csv(\"API_VC.IHR.PSRC.P5_DS2_es_csv_v2/API_VC.IHR.PSRC.P5_DS2_es_csv_v2.csv\",skiprows=4)"
   ]
  },
  {
   "cell_type": "code",
   "execution_count": 8,
   "metadata": {},
   "outputs": [],
   "source": [
    "regions = pd.read_csv('API_NY.GDP.PCAP.CD_DS2_en_csv_v2/Metadata_Country_API_NY.GDP.PCAP.CD_DS2_en_csv_v2.csv')"
   ]
  },
  {
   "cell_type": "code",
   "execution_count": 10,
   "metadata": {},
   "outputs": [
    {
     "data": {
      "text/html": [
       "<div>\n",
       "<style>\n",
       "    .dataframe thead tr:only-child th {\n",
       "        text-align: right;\n",
       "    }\n",
       "\n",
       "    .dataframe thead th {\n",
       "        text-align: left;\n",
       "    }\n",
       "\n",
       "    .dataframe tbody tr th {\n",
       "        vertical-align: top;\n",
       "    }\n",
       "</style>\n",
       "<table border=\"1\" class=\"dataframe\">\n",
       "  <thead>\n",
       "    <tr style=\"text-align: right;\">\n",
       "      <th></th>\n",
       "      <th>Country Name</th>\n",
       "      <th>Country Code</th>\n",
       "      <th>Indicator Name</th>\n",
       "      <th>Indicator Code</th>\n",
       "      <th>1960</th>\n",
       "      <th>1961</th>\n",
       "      <th>1962</th>\n",
       "      <th>1963</th>\n",
       "      <th>1964</th>\n",
       "      <th>1965</th>\n",
       "      <th>...</th>\n",
       "      <th>2009</th>\n",
       "      <th>2010</th>\n",
       "      <th>2011</th>\n",
       "      <th>2012</th>\n",
       "      <th>2013</th>\n",
       "      <th>2014</th>\n",
       "      <th>2015</th>\n",
       "      <th>2016</th>\n",
       "      <th>2017</th>\n",
       "      <th>Unnamed: 62</th>\n",
       "    </tr>\n",
       "  </thead>\n",
       "  <tbody>\n",
       "    <tr>\n",
       "      <th>0</th>\n",
       "      <td>Aruba</td>\n",
       "      <td>ABW</td>\n",
       "      <td>GINI index (World Bank estimate)</td>\n",
       "      <td>SI.POV.GINI</td>\n",
       "      <td>NaN</td>\n",
       "      <td>NaN</td>\n",
       "      <td>NaN</td>\n",
       "      <td>NaN</td>\n",
       "      <td>NaN</td>\n",
       "      <td>NaN</td>\n",
       "      <td>...</td>\n",
       "      <td>NaN</td>\n",
       "      <td>NaN</td>\n",
       "      <td>NaN</td>\n",
       "      <td>NaN</td>\n",
       "      <td>NaN</td>\n",
       "      <td>NaN</td>\n",
       "      <td>NaN</td>\n",
       "      <td>NaN</td>\n",
       "      <td>NaN</td>\n",
       "      <td>NaN</td>\n",
       "    </tr>\n",
       "    <tr>\n",
       "      <th>1</th>\n",
       "      <td>Afghanistan</td>\n",
       "      <td>AFG</td>\n",
       "      <td>GINI index (World Bank estimate)</td>\n",
       "      <td>SI.POV.GINI</td>\n",
       "      <td>NaN</td>\n",
       "      <td>NaN</td>\n",
       "      <td>NaN</td>\n",
       "      <td>NaN</td>\n",
       "      <td>NaN</td>\n",
       "      <td>NaN</td>\n",
       "      <td>...</td>\n",
       "      <td>NaN</td>\n",
       "      <td>NaN</td>\n",
       "      <td>NaN</td>\n",
       "      <td>NaN</td>\n",
       "      <td>NaN</td>\n",
       "      <td>NaN</td>\n",
       "      <td>NaN</td>\n",
       "      <td>NaN</td>\n",
       "      <td>NaN</td>\n",
       "      <td>NaN</td>\n",
       "    </tr>\n",
       "    <tr>\n",
       "      <th>2</th>\n",
       "      <td>Angola</td>\n",
       "      <td>AGO</td>\n",
       "      <td>GINI index (World Bank estimate)</td>\n",
       "      <td>SI.POV.GINI</td>\n",
       "      <td>NaN</td>\n",
       "      <td>NaN</td>\n",
       "      <td>NaN</td>\n",
       "      <td>NaN</td>\n",
       "      <td>NaN</td>\n",
       "      <td>NaN</td>\n",
       "      <td>...</td>\n",
       "      <td>NaN</td>\n",
       "      <td>NaN</td>\n",
       "      <td>NaN</td>\n",
       "      <td>NaN</td>\n",
       "      <td>NaN</td>\n",
       "      <td>NaN</td>\n",
       "      <td>NaN</td>\n",
       "      <td>NaN</td>\n",
       "      <td>NaN</td>\n",
       "      <td>NaN</td>\n",
       "    </tr>\n",
       "  </tbody>\n",
       "</table>\n",
       "<p>3 rows × 63 columns</p>\n",
       "</div>"
      ],
      "text/plain": [
       "  Country Name Country Code                    Indicator Name Indicator Code  \\\n",
       "0        Aruba          ABW  GINI index (World Bank estimate)    SI.POV.GINI   \n",
       "1  Afghanistan          AFG  GINI index (World Bank estimate)    SI.POV.GINI   \n",
       "2       Angola          AGO  GINI index (World Bank estimate)    SI.POV.GINI   \n",
       "\n",
       "   1960  1961  1962  1963  1964  1965     ...       2009  2010  2011  2012  \\\n",
       "0   NaN   NaN   NaN   NaN   NaN   NaN     ...        NaN   NaN   NaN   NaN   \n",
       "1   NaN   NaN   NaN   NaN   NaN   NaN     ...        NaN   NaN   NaN   NaN   \n",
       "2   NaN   NaN   NaN   NaN   NaN   NaN     ...        NaN   NaN   NaN   NaN   \n",
       "\n",
       "   2013  2014  2015  2016  2017  Unnamed: 62  \n",
       "0   NaN   NaN   NaN   NaN   NaN          NaN  \n",
       "1   NaN   NaN   NaN   NaN   NaN          NaN  \n",
       "2   NaN   NaN   NaN   NaN   NaN          NaN  \n",
       "\n",
       "[3 rows x 63 columns]"
      ]
     },
     "execution_count": 10,
     "metadata": {},
     "output_type": "execute_result"
    }
   ],
   "source": [
    "gini.head(3)"
   ]
  },
  {
   "cell_type": "code",
   "execution_count": 11,
   "metadata": {},
   "outputs": [
    {
     "data": {
      "text/html": [
       "<div>\n",
       "<style>\n",
       "    .dataframe thead tr:only-child th {\n",
       "        text-align: right;\n",
       "    }\n",
       "\n",
       "    .dataframe thead th {\n",
       "        text-align: left;\n",
       "    }\n",
       "\n",
       "    .dataframe tbody tr th {\n",
       "        vertical-align: top;\n",
       "    }\n",
       "</style>\n",
       "<table border=\"1\" class=\"dataframe\">\n",
       "  <thead>\n",
       "    <tr style=\"text-align: right;\">\n",
       "      <th></th>\n",
       "      <th>Country Name</th>\n",
       "      <th>Country Code</th>\n",
       "      <th>Indicator Name</th>\n",
       "      <th>Indicator Code</th>\n",
       "      <th>1960</th>\n",
       "      <th>1961</th>\n",
       "      <th>1962</th>\n",
       "      <th>1963</th>\n",
       "      <th>1964</th>\n",
       "      <th>1965</th>\n",
       "      <th>...</th>\n",
       "      <th>2009</th>\n",
       "      <th>2010</th>\n",
       "      <th>2011</th>\n",
       "      <th>2012</th>\n",
       "      <th>2013</th>\n",
       "      <th>2014</th>\n",
       "      <th>2015</th>\n",
       "      <th>2016</th>\n",
       "      <th>2017</th>\n",
       "      <th>Unnamed: 62</th>\n",
       "    </tr>\n",
       "  </thead>\n",
       "  <tbody>\n",
       "    <tr>\n",
       "      <th>0</th>\n",
       "      <td>Aruba</td>\n",
       "      <td>ABW</td>\n",
       "      <td>GDP per capita (current US$)</td>\n",
       "      <td>NY.GDP.PCAP.CD</td>\n",
       "      <td>NaN</td>\n",
       "      <td>NaN</td>\n",
       "      <td>NaN</td>\n",
       "      <td>NaN</td>\n",
       "      <td>NaN</td>\n",
       "      <td>NaN</td>\n",
       "      <td>...</td>\n",
       "      <td>24631.434860</td>\n",
       "      <td>24271.940421</td>\n",
       "      <td>25324.720362</td>\n",
       "      <td>NaN</td>\n",
       "      <td>NaN</td>\n",
       "      <td>NaN</td>\n",
       "      <td>NaN</td>\n",
       "      <td>NaN</td>\n",
       "      <td>NaN</td>\n",
       "      <td>NaN</td>\n",
       "    </tr>\n",
       "    <tr>\n",
       "      <th>1</th>\n",
       "      <td>Afghanistan</td>\n",
       "      <td>AFG</td>\n",
       "      <td>GDP per capita (current US$)</td>\n",
       "      <td>NY.GDP.PCAP.CD</td>\n",
       "      <td>59.777327</td>\n",
       "      <td>59.878153</td>\n",
       "      <td>58.492874</td>\n",
       "      <td>78.782758</td>\n",
       "      <td>82.208444</td>\n",
       "      <td>101.290471</td>\n",
       "      <td>...</td>\n",
       "      <td>445.893298</td>\n",
       "      <td>553.300289</td>\n",
       "      <td>603.537023</td>\n",
       "      <td>669.009051</td>\n",
       "      <td>638.612543</td>\n",
       "      <td>629.345250</td>\n",
       "      <td>569.577923</td>\n",
       "      <td>561.778746</td>\n",
       "      <td>NaN</td>\n",
       "      <td>NaN</td>\n",
       "    </tr>\n",
       "    <tr>\n",
       "      <th>2</th>\n",
       "      <td>Angola</td>\n",
       "      <td>AGO</td>\n",
       "      <td>GDP per capita (current US$)</td>\n",
       "      <td>NY.GDP.PCAP.CD</td>\n",
       "      <td>NaN</td>\n",
       "      <td>NaN</td>\n",
       "      <td>NaN</td>\n",
       "      <td>NaN</td>\n",
       "      <td>NaN</td>\n",
       "      <td>NaN</td>\n",
       "      <td>...</td>\n",
       "      <td>3347.844850</td>\n",
       "      <td>3529.053482</td>\n",
       "      <td>4299.012889</td>\n",
       "      <td>4598.249988</td>\n",
       "      <td>4804.616884</td>\n",
       "      <td>4709.312024</td>\n",
       "      <td>3695.793748</td>\n",
       "      <td>3308.700233</td>\n",
       "      <td>NaN</td>\n",
       "      <td>NaN</td>\n",
       "    </tr>\n",
       "  </tbody>\n",
       "</table>\n",
       "<p>3 rows × 63 columns</p>\n",
       "</div>"
      ],
      "text/plain": [
       "  Country Name Country Code                Indicator Name  Indicator Code  \\\n",
       "0        Aruba          ABW  GDP per capita (current US$)  NY.GDP.PCAP.CD   \n",
       "1  Afghanistan          AFG  GDP per capita (current US$)  NY.GDP.PCAP.CD   \n",
       "2       Angola          AGO  GDP per capita (current US$)  NY.GDP.PCAP.CD   \n",
       "\n",
       "        1960       1961       1962       1963       1964        1965  \\\n",
       "0        NaN        NaN        NaN        NaN        NaN         NaN   \n",
       "1  59.777327  59.878153  58.492874  78.782758  82.208444  101.290471   \n",
       "2        NaN        NaN        NaN        NaN        NaN         NaN   \n",
       "\n",
       "      ...               2009          2010          2011         2012  \\\n",
       "0     ...       24631.434860  24271.940421  25324.720362          NaN   \n",
       "1     ...         445.893298    553.300289    603.537023   669.009051   \n",
       "2     ...        3347.844850   3529.053482   4299.012889  4598.249988   \n",
       "\n",
       "          2013         2014         2015         2016  2017  Unnamed: 62  \n",
       "0          NaN          NaN          NaN          NaN   NaN          NaN  \n",
       "1   638.612543   629.345250   569.577923   561.778746   NaN          NaN  \n",
       "2  4804.616884  4709.312024  3695.793748  3308.700233   NaN          NaN  \n",
       "\n",
       "[3 rows x 63 columns]"
      ]
     },
     "execution_count": 11,
     "metadata": {},
     "output_type": "execute_result"
    }
   ],
   "source": [
    "gdp.head(3)"
   ]
  },
  {
   "cell_type": "code",
   "execution_count": 13,
   "metadata": {},
   "outputs": [
    {
     "data": {
      "text/html": [
       "<div>\n",
       "<style>\n",
       "    .dataframe thead tr:only-child th {\n",
       "        text-align: right;\n",
       "    }\n",
       "\n",
       "    .dataframe thead th {\n",
       "        text-align: left;\n",
       "    }\n",
       "\n",
       "    .dataframe tbody tr th {\n",
       "        vertical-align: top;\n",
       "    }\n",
       "</style>\n",
       "<table border=\"1\" class=\"dataframe\">\n",
       "  <thead>\n",
       "    <tr style=\"text-align: right;\">\n",
       "      <th></th>\n",
       "      <th>Country Name</th>\n",
       "      <th>Country Code</th>\n",
       "      <th>Indicator Name</th>\n",
       "      <th>Indicator Code</th>\n",
       "      <th>1960</th>\n",
       "      <th>1961</th>\n",
       "      <th>1962</th>\n",
       "      <th>1963</th>\n",
       "      <th>1964</th>\n",
       "      <th>1965</th>\n",
       "      <th>...</th>\n",
       "      <th>2009</th>\n",
       "      <th>2010</th>\n",
       "      <th>2011</th>\n",
       "      <th>2012</th>\n",
       "      <th>2013</th>\n",
       "      <th>2014</th>\n",
       "      <th>2015</th>\n",
       "      <th>2016</th>\n",
       "      <th>2017</th>\n",
       "      <th>Unnamed: 62</th>\n",
       "    </tr>\n",
       "  </thead>\n",
       "  <tbody>\n",
       "    <tr>\n",
       "      <th>0</th>\n",
       "      <td>Aruba</td>\n",
       "      <td>ABW</td>\n",
       "      <td>Homicidios intencionales (por cada 100.000 hab...</td>\n",
       "      <td>VC.IHR.PSRC.P5</td>\n",
       "      <td>NaN</td>\n",
       "      <td>NaN</td>\n",
       "      <td>NaN</td>\n",
       "      <td>NaN</td>\n",
       "      <td>NaN</td>\n",
       "      <td>NaN</td>\n",
       "      <td>...</td>\n",
       "      <td>3.9</td>\n",
       "      <td>3.9</td>\n",
       "      <td>NaN</td>\n",
       "      <td>NaN</td>\n",
       "      <td>NaN</td>\n",
       "      <td>NaN</td>\n",
       "      <td>NaN</td>\n",
       "      <td>NaN</td>\n",
       "      <td>NaN</td>\n",
       "      <td>NaN</td>\n",
       "    </tr>\n",
       "    <tr>\n",
       "      <th>1</th>\n",
       "      <td>Afganistán</td>\n",
       "      <td>AFG</td>\n",
       "      <td>Homicidios intencionales (por cada 100.000 hab...</td>\n",
       "      <td>VC.IHR.PSRC.P5</td>\n",
       "      <td>NaN</td>\n",
       "      <td>NaN</td>\n",
       "      <td>NaN</td>\n",
       "      <td>NaN</td>\n",
       "      <td>NaN</td>\n",
       "      <td>NaN</td>\n",
       "      <td>...</td>\n",
       "      <td>4.1</td>\n",
       "      <td>3.5</td>\n",
       "      <td>4.3</td>\n",
       "      <td>6.6</td>\n",
       "      <td>NaN</td>\n",
       "      <td>NaN</td>\n",
       "      <td>NaN</td>\n",
       "      <td>NaN</td>\n",
       "      <td>NaN</td>\n",
       "      <td>NaN</td>\n",
       "    </tr>\n",
       "    <tr>\n",
       "      <th>2</th>\n",
       "      <td>Angola</td>\n",
       "      <td>AGO</td>\n",
       "      <td>Homicidios intencionales (por cada 100.000 hab...</td>\n",
       "      <td>VC.IHR.PSRC.P5</td>\n",
       "      <td>NaN</td>\n",
       "      <td>NaN</td>\n",
       "      <td>NaN</td>\n",
       "      <td>NaN</td>\n",
       "      <td>NaN</td>\n",
       "      <td>NaN</td>\n",
       "      <td>...</td>\n",
       "      <td>NaN</td>\n",
       "      <td>10.5</td>\n",
       "      <td>NaN</td>\n",
       "      <td>NaN</td>\n",
       "      <td>NaN</td>\n",
       "      <td>NaN</td>\n",
       "      <td>9.6</td>\n",
       "      <td>NaN</td>\n",
       "      <td>NaN</td>\n",
       "      <td>NaN</td>\n",
       "    </tr>\n",
       "  </tbody>\n",
       "</table>\n",
       "<p>3 rows × 63 columns</p>\n",
       "</div>"
      ],
      "text/plain": [
       "  Country Name Country Code  \\\n",
       "0        Aruba          ABW   \n",
       "1   Afganistán          AFG   \n",
       "2       Angola          AGO   \n",
       "\n",
       "                                      Indicator Name  Indicator Code  1960  \\\n",
       "0  Homicidios intencionales (por cada 100.000 hab...  VC.IHR.PSRC.P5   NaN   \n",
       "1  Homicidios intencionales (por cada 100.000 hab...  VC.IHR.PSRC.P5   NaN   \n",
       "2  Homicidios intencionales (por cada 100.000 hab...  VC.IHR.PSRC.P5   NaN   \n",
       "\n",
       "   1961  1962  1963  1964  1965     ...       2009  2010  2011  2012  2013  \\\n",
       "0   NaN   NaN   NaN   NaN   NaN     ...        3.9   3.9   NaN   NaN   NaN   \n",
       "1   NaN   NaN   NaN   NaN   NaN     ...        4.1   3.5   4.3   6.6   NaN   \n",
       "2   NaN   NaN   NaN   NaN   NaN     ...        NaN  10.5   NaN   NaN   NaN   \n",
       "\n",
       "   2014  2015  2016  2017  Unnamed: 62  \n",
       "0   NaN   NaN   NaN   NaN          NaN  \n",
       "1   NaN   NaN   NaN   NaN          NaN  \n",
       "2   NaN   9.6   NaN   NaN          NaN  \n",
       "\n",
       "[3 rows x 63 columns]"
      ]
     },
     "execution_count": 13,
     "metadata": {},
     "output_type": "execute_result"
    }
   ],
   "source": [
    "ihr.head(3)"
   ]
  },
  {
   "cell_type": "code",
   "execution_count": 14,
   "metadata": {},
   "outputs": [
    {
     "data": {
      "text/html": [
       "<div>\n",
       "<style>\n",
       "    .dataframe thead tr:only-child th {\n",
       "        text-align: right;\n",
       "    }\n",
       "\n",
       "    .dataframe thead th {\n",
       "        text-align: left;\n",
       "    }\n",
       "\n",
       "    .dataframe tbody tr th {\n",
       "        vertical-align: top;\n",
       "    }\n",
       "</style>\n",
       "<table border=\"1\" class=\"dataframe\">\n",
       "  <thead>\n",
       "    <tr style=\"text-align: right;\">\n",
       "      <th></th>\n",
       "      <th>Country Code</th>\n",
       "      <th>Region</th>\n",
       "      <th>IncomeGroup</th>\n",
       "      <th>SpecialNotes</th>\n",
       "      <th>TableName</th>\n",
       "      <th>Unnamed: 5</th>\n",
       "    </tr>\n",
       "  </thead>\n",
       "  <tbody>\n",
       "    <tr>\n",
       "      <th>0</th>\n",
       "      <td>ABW</td>\n",
       "      <td>Latin America &amp; Caribbean</td>\n",
       "      <td>High income</td>\n",
       "      <td>SNA data for 2000-2011 are updated from offici...</td>\n",
       "      <td>Aruba</td>\n",
       "      <td>NaN</td>\n",
       "    </tr>\n",
       "    <tr>\n",
       "      <th>1</th>\n",
       "      <td>AFG</td>\n",
       "      <td>South Asia</td>\n",
       "      <td>Low income</td>\n",
       "      <td>Fiscal year end: March 20; reporting period fo...</td>\n",
       "      <td>Afghanistan</td>\n",
       "      <td>NaN</td>\n",
       "    </tr>\n",
       "    <tr>\n",
       "      <th>2</th>\n",
       "      <td>AGO</td>\n",
       "      <td>Sub-Saharan Africa</td>\n",
       "      <td>Lower middle income</td>\n",
       "      <td>NaN</td>\n",
       "      <td>Angola</td>\n",
       "      <td>NaN</td>\n",
       "    </tr>\n",
       "  </tbody>\n",
       "</table>\n",
       "</div>"
      ],
      "text/plain": [
       "  Country Code                     Region          IncomeGroup  \\\n",
       "0          ABW  Latin America & Caribbean          High income   \n",
       "1          AFG                 South Asia           Low income   \n",
       "2          AGO         Sub-Saharan Africa  Lower middle income   \n",
       "\n",
       "                                        SpecialNotes    TableName  Unnamed: 5  \n",
       "0  SNA data for 2000-2011 are updated from offici...        Aruba         NaN  \n",
       "1  Fiscal year end: March 20; reporting period fo...  Afghanistan         NaN  \n",
       "2                                                NaN       Angola         NaN  "
      ]
     },
     "execution_count": 14,
     "metadata": {},
     "output_type": "execute_result"
    }
   ],
   "source": [
    "regions.head(3)"
   ]
  },
  {
   "cell_type": "markdown",
   "metadata": {},
   "source": [
    "**Reshape and merge dataframes**\n",
    "\n",
    "Comments of each line of this section can be found in notebook \"Homicides - Worldwide (Part 2)\""
   ]
  },
  {
   "cell_type": "code",
   "execution_count": 16,
   "metadata": {},
   "outputs": [],
   "source": [
    "gini.drop(labels=['Indicator Name','Indicator Code','Unnamed: 62'],axis=1,inplace=True)"
   ]
  },
  {
   "cell_type": "code",
   "execution_count": 17,
   "metadata": {
    "collapsed": true
   },
   "outputs": [],
   "source": [
    "gini = gini.melt(id_vars=['Country Name','Country Code'],value_vars=gini.columns[2:],var_name='Year',value_name='Gini')"
   ]
  },
  {
   "cell_type": "code",
   "execution_count": 18,
   "metadata": {
    "collapsed": true
   },
   "outputs": [],
   "source": [
    "gini.dropna(inplace=True)"
   ]
  },
  {
   "cell_type": "code",
   "execution_count": 20,
   "metadata": {},
   "outputs": [
    {
     "data": {
      "text/html": [
       "<div>\n",
       "<style>\n",
       "    .dataframe thead tr:only-child th {\n",
       "        text-align: right;\n",
       "    }\n",
       "\n",
       "    .dataframe thead th {\n",
       "        text-align: left;\n",
       "    }\n",
       "\n",
       "    .dataframe tbody tr th {\n",
       "        vertical-align: top;\n",
       "    }\n",
       "</style>\n",
       "<table border=\"1\" class=\"dataframe\">\n",
       "  <thead>\n",
       "    <tr style=\"text-align: right;\">\n",
       "      <th></th>\n",
       "      <th>Country Name</th>\n",
       "      <th>Country Code</th>\n",
       "      <th>Year</th>\n",
       "      <th>Gini</th>\n",
       "    </tr>\n",
       "  </thead>\n",
       "  <tbody>\n",
       "    <tr>\n",
       "      <th>5129</th>\n",
       "      <td>Israel</td>\n",
       "      <td>ISR</td>\n",
       "      <td>1979</td>\n",
       "      <td>36.3</td>\n",
       "    </tr>\n",
       "    <tr>\n",
       "      <th>5199</th>\n",
       "      <td>Panama</td>\n",
       "      <td>PAN</td>\n",
       "      <td>1979</td>\n",
       "      <td>48.7</td>\n",
       "    </tr>\n",
       "    <tr>\n",
       "      <th>5265</th>\n",
       "      <td>United States</td>\n",
       "      <td>USA</td>\n",
       "      <td>1979</td>\n",
       "      <td>34.6</td>\n",
       "    </tr>\n",
       "  </tbody>\n",
       "</table>\n",
       "</div>"
      ],
      "text/plain": [
       "       Country Name Country Code  Year  Gini\n",
       "5129         Israel          ISR  1979  36.3\n",
       "5199         Panama          PAN  1979  48.7\n",
       "5265  United States          USA  1979  34.6"
      ]
     },
     "execution_count": 20,
     "metadata": {},
     "output_type": "execute_result"
    }
   ],
   "source": [
    "gini.head(3)"
   ]
  },
  {
   "cell_type": "code",
   "execution_count": 21,
   "metadata": {
    "collapsed": true
   },
   "outputs": [],
   "source": [
    "gdp.drop(labels=['Indicator Name','Indicator Code','Unnamed: 62'],axis=1,inplace=True)"
   ]
  },
  {
   "cell_type": "code",
   "execution_count": 22,
   "metadata": {
    "collapsed": true
   },
   "outputs": [],
   "source": [
    "gdp = gdp.melt(id_vars=['Country Name','Country Code'],value_vars=gdp.columns[2:],var_name='Year',value_name='GDP')"
   ]
  },
  {
   "cell_type": "code",
   "execution_count": 23,
   "metadata": {},
   "outputs": [
    {
     "data": {
      "text/html": [
       "<div>\n",
       "<style>\n",
       "    .dataframe thead tr:only-child th {\n",
       "        text-align: right;\n",
       "    }\n",
       "\n",
       "    .dataframe thead th {\n",
       "        text-align: left;\n",
       "    }\n",
       "\n",
       "    .dataframe tbody tr th {\n",
       "        vertical-align: top;\n",
       "    }\n",
       "</style>\n",
       "<table border=\"1\" class=\"dataframe\">\n",
       "  <thead>\n",
       "    <tr style=\"text-align: right;\">\n",
       "      <th></th>\n",
       "      <th>Country Name</th>\n",
       "      <th>Country Code</th>\n",
       "      <th>Year</th>\n",
       "      <th>GDP</th>\n",
       "    </tr>\n",
       "  </thead>\n",
       "  <tbody>\n",
       "    <tr>\n",
       "      <th>0</th>\n",
       "      <td>Aruba</td>\n",
       "      <td>ABW</td>\n",
       "      <td>1960</td>\n",
       "      <td>NaN</td>\n",
       "    </tr>\n",
       "    <tr>\n",
       "      <th>1</th>\n",
       "      <td>Afghanistan</td>\n",
       "      <td>AFG</td>\n",
       "      <td>1960</td>\n",
       "      <td>59.777327</td>\n",
       "    </tr>\n",
       "    <tr>\n",
       "      <th>2</th>\n",
       "      <td>Angola</td>\n",
       "      <td>AGO</td>\n",
       "      <td>1960</td>\n",
       "      <td>NaN</td>\n",
       "    </tr>\n",
       "  </tbody>\n",
       "</table>\n",
       "</div>"
      ],
      "text/plain": [
       "  Country Name Country Code  Year        GDP\n",
       "0        Aruba          ABW  1960        NaN\n",
       "1  Afghanistan          AFG  1960  59.777327\n",
       "2       Angola          AGO  1960        NaN"
      ]
     },
     "execution_count": 23,
     "metadata": {},
     "output_type": "execute_result"
    }
   ],
   "source": [
    "gdp.head(3)"
   ]
  },
  {
   "cell_type": "code",
   "execution_count": 24,
   "metadata": {
    "collapsed": true
   },
   "outputs": [],
   "source": [
    "ihr.drop(labels=['Indicator Name','Indicator Code','Unnamed: 62'],axis=1,inplace=True)"
   ]
  },
  {
   "cell_type": "code",
   "execution_count": 25,
   "metadata": {
    "collapsed": true
   },
   "outputs": [],
   "source": [
    "ihr = ihr.melt(id_vars=['Country Name','Country Code'],value_vars=ihr.columns[2:],var_name='Year',value_name='IHR')"
   ]
  },
  {
   "cell_type": "code",
   "execution_count": 26,
   "metadata": {
    "collapsed": true
   },
   "outputs": [],
   "source": [
    "ihr.dropna(inplace=True)"
   ]
  },
  {
   "cell_type": "code",
   "execution_count": 27,
   "metadata": {},
   "outputs": [
    {
     "data": {
      "text/html": [
       "<div>\n",
       "<style>\n",
       "    .dataframe thead tr:only-child th {\n",
       "        text-align: right;\n",
       "    }\n",
       "\n",
       "    .dataframe thead th {\n",
       "        text-align: left;\n",
       "    }\n",
       "\n",
       "    .dataframe tbody tr th {\n",
       "        vertical-align: top;\n",
       "    }\n",
       "</style>\n",
       "<table border=\"1\" class=\"dataframe\">\n",
       "  <thead>\n",
       "    <tr style=\"text-align: right;\">\n",
       "      <th></th>\n",
       "      <th>Country Name</th>\n",
       "      <th>Country Code</th>\n",
       "      <th>Year</th>\n",
       "      <th>IHR</th>\n",
       "    </tr>\n",
       "  </thead>\n",
       "  <tbody>\n",
       "    <tr>\n",
       "      <th>9243</th>\n",
       "      <td>Albania</td>\n",
       "      <td>ALB</td>\n",
       "      <td>1995</td>\n",
       "      <td>6.685552</td>\n",
       "    </tr>\n",
       "    <tr>\n",
       "      <th>9247</th>\n",
       "      <td>Argentina</td>\n",
       "      <td>ARG</td>\n",
       "      <td>1995</td>\n",
       "      <td>7.812330</td>\n",
       "    </tr>\n",
       "    <tr>\n",
       "      <th>9248</th>\n",
       "      <td>Armenia</td>\n",
       "      <td>ARM</td>\n",
       "      <td>1995</td>\n",
       "      <td>3.598938</td>\n",
       "    </tr>\n",
       "  </tbody>\n",
       "</table>\n",
       "</div>"
      ],
      "text/plain": [
       "     Country Name Country Code  Year       IHR\n",
       "9243      Albania          ALB  1995  6.685552\n",
       "9247    Argentina          ARG  1995  7.812330\n",
       "9248      Armenia          ARM  1995  3.598938"
      ]
     },
     "execution_count": 27,
     "metadata": {},
     "output_type": "execute_result"
    }
   ],
   "source": [
    "ihr.head(3)"
   ]
  },
  {
   "cell_type": "code",
   "execution_count": 28,
   "metadata": {
    "collapsed": true
   },
   "outputs": [],
   "source": [
    "ggi = pd.merge(gdp,gini,how='left',on=['Country Name','Country Code','Year'])"
   ]
  },
  {
   "cell_type": "code",
   "execution_count": 29,
   "metadata": {
    "collapsed": true
   },
   "outputs": [],
   "source": [
    "ggi = ggi.merge(ihr,how='left',on=['Country Name','Country Code','Year'])"
   ]
  },
  {
   "cell_type": "code",
   "execution_count": 30,
   "metadata": {},
   "outputs": [
    {
     "data": {
      "text/html": [
       "<div>\n",
       "<style>\n",
       "    .dataframe thead tr:only-child th {\n",
       "        text-align: right;\n",
       "    }\n",
       "\n",
       "    .dataframe thead th {\n",
       "        text-align: left;\n",
       "    }\n",
       "\n",
       "    .dataframe tbody tr th {\n",
       "        vertical-align: top;\n",
       "    }\n",
       "</style>\n",
       "<table border=\"1\" class=\"dataframe\">\n",
       "  <thead>\n",
       "    <tr style=\"text-align: right;\">\n",
       "      <th></th>\n",
       "      <th>Country Name</th>\n",
       "      <th>Country Code</th>\n",
       "      <th>Year</th>\n",
       "      <th>GDP</th>\n",
       "      <th>Gini</th>\n",
       "      <th>IHR</th>\n",
       "    </tr>\n",
       "  </thead>\n",
       "  <tbody>\n",
       "    <tr>\n",
       "      <th>0</th>\n",
       "      <td>Aruba</td>\n",
       "      <td>ABW</td>\n",
       "      <td>1960</td>\n",
       "      <td>NaN</td>\n",
       "      <td>NaN</td>\n",
       "      <td>NaN</td>\n",
       "    </tr>\n",
       "    <tr>\n",
       "      <th>1</th>\n",
       "      <td>Afghanistan</td>\n",
       "      <td>AFG</td>\n",
       "      <td>1960</td>\n",
       "      <td>59.777327</td>\n",
       "      <td>NaN</td>\n",
       "      <td>NaN</td>\n",
       "    </tr>\n",
       "    <tr>\n",
       "      <th>2</th>\n",
       "      <td>Angola</td>\n",
       "      <td>AGO</td>\n",
       "      <td>1960</td>\n",
       "      <td>NaN</td>\n",
       "      <td>NaN</td>\n",
       "      <td>NaN</td>\n",
       "    </tr>\n",
       "  </tbody>\n",
       "</table>\n",
       "</div>"
      ],
      "text/plain": [
       "  Country Name Country Code  Year        GDP  Gini  IHR\n",
       "0        Aruba          ABW  1960        NaN   NaN  NaN\n",
       "1  Afghanistan          AFG  1960  59.777327   NaN  NaN\n",
       "2       Angola          AGO  1960        NaN   NaN  NaN"
      ]
     },
     "execution_count": 30,
     "metadata": {},
     "output_type": "execute_result"
    }
   ],
   "source": [
    "ggi.head(3)"
   ]
  },
  {
   "cell_type": "code",
   "execution_count": 31,
   "metadata": {
    "collapsed": true
   },
   "outputs": [],
   "source": [
    "ggi = ggi.merge(regions,on='Country Code')[['Country Name','Country Code','Year','GDP','Gini','IHR','Region','IncomeGroup']]"
   ]
  },
  {
   "cell_type": "code",
   "execution_count": 32,
   "metadata": {},
   "outputs": [
    {
     "data": {
      "text/html": [
       "<div>\n",
       "<style>\n",
       "    .dataframe thead tr:only-child th {\n",
       "        text-align: right;\n",
       "    }\n",
       "\n",
       "    .dataframe thead th {\n",
       "        text-align: left;\n",
       "    }\n",
       "\n",
       "    .dataframe tbody tr th {\n",
       "        vertical-align: top;\n",
       "    }\n",
       "</style>\n",
       "<table border=\"1\" class=\"dataframe\">\n",
       "  <thead>\n",
       "    <tr style=\"text-align: right;\">\n",
       "      <th></th>\n",
       "      <th>Country Name</th>\n",
       "      <th>Country Code</th>\n",
       "      <th>Year</th>\n",
       "      <th>GDP</th>\n",
       "      <th>Gini</th>\n",
       "      <th>IHR</th>\n",
       "      <th>Region</th>\n",
       "      <th>IncomeGroup</th>\n",
       "    </tr>\n",
       "  </thead>\n",
       "  <tbody>\n",
       "    <tr>\n",
       "      <th>0</th>\n",
       "      <td>Aruba</td>\n",
       "      <td>ABW</td>\n",
       "      <td>1960</td>\n",
       "      <td>NaN</td>\n",
       "      <td>NaN</td>\n",
       "      <td>NaN</td>\n",
       "      <td>Latin America &amp; Caribbean</td>\n",
       "      <td>High income</td>\n",
       "    </tr>\n",
       "    <tr>\n",
       "      <th>1</th>\n",
       "      <td>Aruba</td>\n",
       "      <td>ABW</td>\n",
       "      <td>1961</td>\n",
       "      <td>NaN</td>\n",
       "      <td>NaN</td>\n",
       "      <td>NaN</td>\n",
       "      <td>Latin America &amp; Caribbean</td>\n",
       "      <td>High income</td>\n",
       "    </tr>\n",
       "    <tr>\n",
       "      <th>2</th>\n",
       "      <td>Aruba</td>\n",
       "      <td>ABW</td>\n",
       "      <td>1962</td>\n",
       "      <td>NaN</td>\n",
       "      <td>NaN</td>\n",
       "      <td>NaN</td>\n",
       "      <td>Latin America &amp; Caribbean</td>\n",
       "      <td>High income</td>\n",
       "    </tr>\n",
       "  </tbody>\n",
       "</table>\n",
       "</div>"
      ],
      "text/plain": [
       "  Country Name Country Code  Year  GDP  Gini  IHR                     Region  \\\n",
       "0        Aruba          ABW  1960  NaN   NaN  NaN  Latin America & Caribbean   \n",
       "1        Aruba          ABW  1961  NaN   NaN  NaN  Latin America & Caribbean   \n",
       "2        Aruba          ABW  1962  NaN   NaN  NaN  Latin America & Caribbean   \n",
       "\n",
       "   IncomeGroup  \n",
       "0  High income  \n",
       "1  High income  \n",
       "2  High income  "
      ]
     },
     "execution_count": 32,
     "metadata": {},
     "output_type": "execute_result"
    }
   ],
   "source": [
    "ggi.head(3)"
   ]
  },
  {
   "cell_type": "markdown",
   "metadata": {},
   "source": [
    "**Exploration Data Analysis**"
   ]
  },
  {
   "cell_type": "code",
   "execution_count": 33,
   "metadata": {},
   "outputs": [
    {
     "data": {
      "text/plain": [
       "Text(0.5,1,'Gini vs IHR in Latin America & Caribbean')"
      ]
     },
     "execution_count": 33,
     "metadata": {},
     "output_type": "execute_result"
    },
    {
     "data": {
      "image/png": "[encoded data removed]",
      "text/plain": [
       "<matplotlib.figure.Figure at 0x8b0c99cb38>"
      ]
     },
     "metadata": {},
     "output_type": "display_data"
    }
   ],
   "source": [
    "sns.lmplot(x='Gini',y='IHR',hue='IncomeGroup', data=ggi[ggi['Region'] == 'Latin America & Caribbean'].dropna())\n",
    "plt.title('Gini vs IHR in Latin America & Caribbean')"
   ]
  },
  {
   "cell_type": "code",
   "execution_count": 35,
   "metadata": {
    "collapsed": true
   },
   "outputs": [],
   "source": [
    "# In this line I will plot a choropleth map for latin american countries' indicators\n",
    "# First i need to import libraries\n",
    "import plotly.graph_objs as go\n",
    "from plotly.offline import download_plotlyjs, init_notebook_mode,plot,iplot"
   ]
  },
  {
   "cell_type": "code",
   "execution_count": 36,
   "metadata": {},
   "outputs": [
    {
     "data": {
      "text/html": [
       "<script>requirejs.config({paths: { 'plotly': ['https://cdn.plot.ly/plotly-latest.min']},});if(!window.Plotly) {{require(['plotly'],function(plotly) {window.Plotly=plotly;});}}</script>"
      ],
      "text/vnd.plotly.v1+html": [
       "<script>requirejs.config({paths: { 'plotly': ['https://cdn.plot.ly/plotly-latest.min']},});if(!window.Plotly) {{require(['plotly'],function(plotly) {window.Plotly=plotly;});}}</script>"
      ]
     },
     "metadata": {},
     "output_type": "display_data"
    }
   ],
   "source": [
    "# This line is necessary to work with plotly offline. Otherwise, one would need to have an account on plotly website\n",
    "init_notebook_mode(connected=True) "
   ]
  },
  {
   "cell_type": "code",
   "execution_count": 69,
   "metadata": {},
   "outputs": [],
   "source": [
    "ggi_latin = ggi[(ggi['Region'] == 'Latin America & Caribbean') & ((ggi['Year'] == '2015'))]\n",
    "# Create a data object. This is required by plotly.\n",
    "data = dict(\n",
    "        type='choropleth',\n",
    "        locations = ggi_latin['Country Code'],\n",
    "        z = ggi_latin['IHR'],\n",
    "        text = ggi_latin['Country Name'],\n",
    "        colorbar = {'title' : 'Homicides Rate'},\n",
    "      ) "
   ]
  },
  {
   "cell_type": "code",
   "execution_count": 72,
   "metadata": {
    "collapsed": true
   },
   "outputs": [],
   "source": [
    "# Create a layout object. This is required by plotly.\n",
    "layout = dict(\n",
    "    title = 'Intentional Homicide Rates - Latin America & Caribbean (2015)',\n",
    "    geo = dict(\n",
    "        showframe = True,\n",
    "        projection = {'type':'Mercator'}\n",
    "    )\n",
    ")"
   ]
  },
  {
   "cell_type": "code",
   "execution_count": 73,
   "metadata": {},
   "outputs": [
    {
     "data": {
      "application/vnd.plotly.v1+json": {
       "data": [
        {
         "colorbar": {
          "title": "Homicides Rate"
         },
         "locations": [
          "ABW",
          "ARG",
          "ATG",
          "BHS",
          "BLZ",
          "BOL",
          "BRA",
          "BRB",
          "CHL",
          "COL",
          "CRI",
          "CUB",
          "CUW",
          "CYM",
          "DMA",
          "DOM",
          "ECU",
          "GRD",
          "GTM",
          "GUY",
          "HND",
          "HTI",
          "JAM",
          "KNA",
          "LCA",
          "MAF",
          "MEX",
          "NIC",
          "PAN",
          "PER",
          "PRI",
          "PRY",
          "SLV",
          "SUR",
          "SXM",
          "TCA",
          "TTO",
          "URY",
          "VCT",
          "VEN",
          "VGB",
          "VIR"
         ],
         "text": [
          "Aruba",
          "Argentina",
          "Antigua and Barbuda",
          "Bahamas, The",
          "Belize",
          "Bolivia",
          "Brazil",
          "Barbados",
          "Chile",
          "Colombia",
          "Costa Rica",
          "Cuba",
          "Curacao",
          "Cayman Islands",
          "Dominica",
          "Dominican Republic",
          "Ecuador",
          "Grenada",
          "Guatemala",
          "Guyana",
          "Honduras",
          "Haiti",
          "Jamaica",
          "St. Kitts and Nevis",
          "St. Lucia",
          "St. Martin (French part)",
          "Mexico",
          "Nicaragua",
          "Panama",
          "Peru",
          "Puerto Rico",
          "Paraguay",
          "El Salvador",
          "Suriname",
          "Sint Maarten (Dutch part)",
          "Turks and Caicos Islands",
          "Trinidad and Tobago",
          "Uruguay",
          "St. Vincent and the Grenadines",
          "Venezuela, RB",
          "British Virgin Islands",
          "Virgin Islands (U.S.)"
         ],
         "type": "choropleth",
         "z": [
          null,
          6.5,
          null,
          null,
          null,
          null,
          null,
          10.9,
          null,
          26.5,
          11.8,
          null,
          null,
          null,
          null,
          null,
          null,
          null,
          null,
          19.4,
          63.8,
          null,
          43.2,
          null,
          null,
          null,
          null,
          null,
          null,
          null,
          15.9,
          9.3,
          108.6,
          10.7,
          null,
          null,
          null,
          8.4,
          null,
          null,
          null,
          null
         ]
        }
       ],
       "layout": {
        "geo": {
         "projection": {
          "type": "Mercator"
         },
         "showframe": true
        },
        "title": "Intentional Homicide Rates - Latin America & Caribbean (2015)"
       }
      },
      "text/html": [
       "<div id=\"97c8b1cd-dc30-490a-be61-31f62b54a837\" style=\"height: 525px; width: 100%;\" class=\"plotly-graph-div\"></div><script type=\"text/javascript\">require([\"plotly\"], function(Plotly) { window.PLOTLYENV=window.PLOTLYENV || {};window.PLOTLYENV.BASE_URL=\"https://plot.ly\";Plotly.newPlot(\"97c8b1cd-dc30-490a-be61-31f62b54a837\", [{\"type\": \"choropleth\", \"locations\": [\"ABW\", \"ARG\", \"ATG\", \"BHS\", \"BLZ\", \"BOL\", \"BRA\", \"BRB\", \"CHL\", \"COL\", \"CRI\", \"CUB\", \"CUW\", \"CYM\", \"DMA\", \"DOM\", \"ECU\", \"GRD\", \"GTM\", \"GUY\", \"HND\", \"HTI\", \"JAM\", \"KNA\", \"LCA\", \"MAF\", \"MEX\", \"NIC\", \"PAN\", \"PER\", \"PRI\", \"PRY\", \"SLV\", \"SUR\", \"SXM\", \"TCA\", \"TTO\", \"URY\", \"VCT\", \"VEN\", \"VGB\", \"VIR\"], \"z\": [null, 6.5, null, null, null, null, null, 10.9, null, 26.5, 11.8, null, null, null, null, null, null, null, null, 19.4, 63.8, null, 43.2, null, null, null, null, null, null, null, 15.9, 9.3, 108.6, 10.7, null, null, null, 8.4, null, null, null, null], \"text\": [\"Aruba\", \"Argentina\", \"Antigua and Barbuda\", \"Bahamas, The\", \"Belize\", \"Bolivia\", \"Brazil\", \"Barbados\", \"Chile\", \"Colombia\", \"Costa Rica\", \"Cuba\", \"Curacao\", \"Cayman Islands\", \"Dominica\", \"Dominican Republic\", \"Ecuador\", \"Grenada\", \"Guatemala\", \"Guyana\", \"Honduras\", \"Haiti\", \"Jamaica\", \"St. Kitts and Nevis\", \"St. Lucia\", \"St. Martin (French part)\", \"Mexico\", \"Nicaragua\", \"Panama\", \"Peru\", \"Puerto Rico\", \"Paraguay\", \"El Salvador\", \"Suriname\", \"Sint Maarten (Dutch part)\", \"Turks and Caicos Islands\", \"Trinidad and Tobago\", \"Uruguay\", \"St. Vincent and the Grenadines\", \"Venezuela, RB\", \"British Virgin Islands\", \"Virgin Islands (U.S.)\"], \"colorbar\": {\"title\": \"Homicides Rate\"}}], {\"title\": \"Intentional Homicide Rates - Latin America & Caribbean (2015)\", \"geo\": {\"showframe\": true, \"projection\": {\"type\": \"Mercator\"}}}, {\"showLink\": true, \"linkText\": \"Export to plot.ly\"})});</script>"
      ],
      "text/vnd.plotly.v1+html": [
       "<div id=\"97c8b1cd-dc30-490a-be61-31f62b54a837\" style=\"height: 525px; width: 100%;\" class=\"plotly-graph-div\"></div><script type=\"text/javascript\">require([\"plotly\"], function(Plotly) { window.PLOTLYENV=window.PLOTLYENV || {};window.PLOTLYENV.BASE_URL=\"https://plot.ly\";Plotly.newPlot(\"97c8b1cd-dc30-490a-be61-31f62b54a837\", [{\"type\": \"choropleth\", \"locations\": [\"ABW\", \"ARG\", \"ATG\", \"BHS\", \"BLZ\", \"BOL\", \"BRA\", \"BRB\", \"CHL\", \"COL\", \"CRI\", \"CUB\", \"CUW\", \"CYM\", \"DMA\", \"DOM\", \"ECU\", \"GRD\", \"GTM\", \"GUY\", \"HND\", \"HTI\", \"JAM\", \"KNA\", \"LCA\", \"MAF\", \"MEX\", \"NIC\", \"PAN\", \"PER\", \"PRI\", \"PRY\", \"SLV\", \"SUR\", \"SXM\", \"TCA\", \"TTO\", \"URY\", \"VCT\", \"VEN\", \"VGB\", \"VIR\"], \"z\": [null, 6.5, null, null, null, null, null, 10.9, null, 26.5, 11.8, null, null, null, null, null, null, null, null, 19.4, 63.8, null, 43.2, null, null, null, null, null, null, null, 15.9, 9.3, 108.6, 10.7, null, null, null, 8.4, null, null, null, null], \"text\": [\"Aruba\", \"Argentina\", \"Antigua and Barbuda\", \"Bahamas, The\", \"Belize\", \"Bolivia\", \"Brazil\", \"Barbados\", \"Chile\", \"Colombia\", \"Costa Rica\", \"Cuba\", \"Curacao\", \"Cayman Islands\", \"Dominica\", \"Dominican Republic\", \"Ecuador\", \"Grenada\", \"Guatemala\", \"Guyana\", \"Honduras\", \"Haiti\", \"Jamaica\", \"St. Kitts and Nevis\", \"St. Lucia\", \"St. Martin (French part)\", \"Mexico\", \"Nicaragua\", \"Panama\", \"Peru\", \"Puerto Rico\", \"Paraguay\", \"El Salvador\", \"Suriname\", \"Sint Maarten (Dutch part)\", \"Turks and Caicos Islands\", \"Trinidad and Tobago\", \"Uruguay\", \"St. Vincent and the Grenadines\", \"Venezuela, RB\", \"British Virgin Islands\", \"Virgin Islands (U.S.)\"], \"colorbar\": {\"title\": \"Homicides Rate\"}}], {\"title\": \"Intentional Homicide Rates - Latin America & Caribbean (2015)\", \"geo\": {\"showframe\": true, \"projection\": {\"type\": \"Mercator\"}}}, {\"showLink\": true, \"linkText\": \"Export to plot.ly\"})});</script>"
      ]
     },
     "metadata": {},
     "output_type": "display_data"
    }
   ],
   "source": [
    "# Plot choropleth map with plotly\n",
    "choromap = go.Figure(data = [data],layout = layout)\n",
    "iplot(choromap)"
   ]
  },
  {
   "cell_type": "markdown",
   "metadata": {},
   "source": [
    "**Exploration of  IHR in Latin America & Caribbean**"
   ]
  },
  {
   "cell_type": "code",
   "execution_count": 84,
   "metadata": {},
   "outputs": [],
   "source": [
    "# Filter data for latin america and caribbean\n",
    "ggi_latin = ggi[ggi['Region'] == 'Latin America & Caribbean']"
   ]
  },
  {
   "cell_type": "code",
   "execution_count": 88,
   "metadata": {},
   "outputs": [
    {
     "name": "stderr",
     "output_type": "stream",
     "text": [
      "C:\\ProgramData\\Anaconda3\\lib\\site-packages\\ipykernel_launcher.py:1: SettingWithCopyWarning:\n",
      "\n",
      "\n",
      "A value is trying to be set on a copy of a slice from a DataFrame.\n",
      "Try using .loc[row_indexer,col_indexer] = value instead\n",
      "\n",
      "See the caveats in the documentation: http://pandas.pydata.org/pandas-docs/stable/indexing.html#indexing-view-versus-copy\n",
      "\n"
     ]
    }
   ],
   "source": [
    "# Change data type of column Year's values into integer\n",
    "ggi_latin['Year'] = ggi_latin['Year'].apply(int)"
   ]
  },
  {
   "cell_type": "code",
   "execution_count": 89,
   "metadata": {},
   "outputs": [
    {
     "data": {
      "text/plain": [
       "numpy.int64"
      ]
     },
     "execution_count": 89,
     "metadata": {},
     "output_type": "execute_result"
    }
   ],
   "source": [
    "# Check data type of column Year\n",
    "type(ggi_latin.loc[0,'Year'])"
   ]
  },
  {
   "cell_type": "code",
   "execution_count": 103,
   "metadata": {},
   "outputs": [
    {
     "data": {
      "text/plain": [
       "Text(0.5,1,'IHR per year - High income countries')"
      ]
     },
     "execution_count": 103,
     "metadata": {},
     "output_type": "execute_result"
    },
    {
     "data": {
      "image/png": "[encoded data removed]",
      "text/plain": [
       "<matplotlib.figure.Figure at 0x8b1a46cdd8>"
      ]
     },
     "metadata": {},
     "output_type": "display_data"
    }
   ],
   "source": [
    "sns.factorplot(x='Year',y='IHR',data=ggi_latin[ggi_latin['IncomeGroup']=='High income'],hue='Country Name',size=3,aspect=3)\n",
    "plt.xticks(rotation=90)\n",
    "plt.title('IHR per year - High income countries')\n",
    "# Empty dot in the bar on the right means there is no data for the country"
   ]
  },
  {
   "cell_type": "code",
   "execution_count": 118,
   "metadata": {},
   "outputs": [
    {
     "data": {
      "text/plain": [
       "Text(0.5,1,'IHR per year - Upper middle income countries')"
      ]
     },
     "execution_count": 118,
     "metadata": {},
     "output_type": "execute_result"
    },
    {
     "data": {
      "image/png": "[encoded data removed]",
      "text/plain": [
       "<matplotlib.figure.Figure at 0x8b1eeb6d30>"
      ]
     },
     "metadata": {},
     "output_type": "display_data"
    }
   ],
   "source": [
    "sns.factorplot(x='Year',y='IHR',data=ggi_latin[ggi_latin['IncomeGroup']=='Upper middle income'],hue='Country Name',size=3,aspect=3)\n",
    "plt.xticks(rotation=90)\n",
    "plt.title('IHR per year - Upper middle income countries')"
   ]
  },
  {
   "cell_type": "code",
   "execution_count": 105,
   "metadata": {},
   "outputs": [
    {
     "data": {
      "text/plain": [
       "Text(0.5,1,'IHR per year - Lower middle income countries')"
      ]
     },
     "execution_count": 105,
     "metadata": {},
     "output_type": "execute_result"
    },
    {
     "data": {
      "image/png": "[encoded data removed]",
      "text/plain": [
       "<matplotlib.figure.Figure at 0x8b1aef56a0>"
      ]
     },
     "metadata": {},
     "output_type": "display_data"
    }
   ],
   "source": [
    "sns.factorplot(x='Year',y='IHR',data=ggi_latin[ggi_latin['IncomeGroup']=='Lower middle income'],hue='Country Name',size=3,aspect=3)\n",
    "plt.xticks(rotation=90)\n",
    "plt.title('IHR per year - Lower middle income countries')"
   ]
  },
  {
   "cell_type": "code",
   "execution_count": 110,
   "metadata": {},
   "outputs": [
    {
     "data": {
      "text/plain": [
       "Text(0.5,1,'IHR per year - Chile, Colombia, Cuba, Venezuela')"
      ]
     },
     "execution_count": 110,
     "metadata": {},
     "output_type": "execute_result"
    },
    {
     "data": {
      "image/png": "[encoded data removed]",
      "text/plain": [
       "<matplotlib.figure.Figure at 0x8b1d521e10>"
      ]
     },
     "metadata": {},
     "output_type": "display_data"
    }
   ],
   "source": [
    "sns.factorplot(x='Year',y='IHR',data=ggi_latin[(ggi_latin['Country Name']=='Colombia') | (ggi_latin['Country Name']=='Chile') | (ggi_latin['Country Name']=='Venezuela, RB') | (ggi_latin['Country Name']=='Cuba')],hue='Country Name',size=3,aspect=3)\n",
    "plt.xticks(rotation=90)\n",
    "plt.title('IHR per year - Chile, Colombia, Cuba, Venezuela')"
   ]
  },
  {
   "cell_type": "code",
   "execution_count": 142,
   "metadata": {},
   "outputs": [
    {
     "data": {
      "text/plain": [
       "IncomeGroup\n",
       "High income             5.760000\n",
       "Lower middle income    51.118564\n",
       "Upper middle income    20.272831\n",
       "Name: IHR, dtype: float64"
      ]
     },
     "execution_count": 142,
     "metadata": {},
     "output_type": "execute_result"
    }
   ],
   "source": [
    "# IHR per income group. \n",
    "ggi_latin.dropna().groupby('IncomeGroup')['IHR'].mean()"
   ]
  },
  {
   "cell_type": "code",
   "execution_count": 141,
   "metadata": {},
   "outputs": [
    {
     "data": {
      "text/plain": [
       "IncomeGroup          Country Name\n",
       "Lower middle income  El Salvador     66.242664\n",
       "                     Honduras        64.474016\n",
       "Upper middle income  Colombia        45.361209\n",
       "                     Jamaica         41.378418\n",
       "Lower middle income  Guatemala       34.325000\n",
       "Upper middle income  Guyana          15.469746\n",
       "                     Ecuador         15.084615\n",
       "                     Paraguay        15.007125\n",
       "Lower middle income  Nicaragua       12.827315\n",
       "                     Bolivia          8.857143\n",
       "Upper middle income  Costa Rica       8.121737\n",
       "                     Argentina        7.912459\n",
       "High income          Uruguay          6.890000\n",
       "                     Chile            3.500000\n",
       "Name: IHR, dtype: float64"
      ]
     },
     "execution_count": 141,
     "metadata": {},
     "output_type": "execute_result"
    }
   ],
   "source": [
    "# IHR per income group and country\n",
    "ggi_latin.dropna().groupby(['IncomeGroup','Country Name'])['IHR'].mean().sort_values(ascending=False)"
   ]
  },
  {
   "cell_type": "code",
   "execution_count": 140,
   "metadata": {},
   "outputs": [
    {
     "data": {
      "text/plain": [
       "IncomeGroup          Year\n",
       "Lower middle income  1995    139.132079\n",
       "                     1996    117.277282\n",
       "                     2015     86.200000\n",
       "                     2010     74.550000\n",
       "                     2013     61.600000\n",
       "                     2014     56.666667\n",
       "                     1998     54.002995\n",
       "                     1999     53.565717\n",
       "                     2011     53.325000\n",
       "                     2004     50.350000\n",
       "                     2003     49.350000\n",
       "                     2012     49.266667\n",
       "                     2002     46.800000\n",
       "                     2009     41.775000\n",
       "                     2008     41.066667\n",
       "                     2006     40.075000\n",
       "                     2007     39.000000\n",
       "Upper middle income  2002     34.800000\n",
       "Lower middle income  2001     34.333333\n",
       "Upper middle income  2001     32.866667\n",
       "Lower middle income  2005     32.750000\n",
       "                     2000     32.550000\n",
       "Upper middle income  1996     30.708250\n",
       "                     2004     29.080000\n",
       "                     2000     28.833333\n",
       "                     2003     24.550000\n",
       "                     1999     24.297520\n",
       "                     2005     20.350000\n",
       "                     2009     19.250000\n",
       "                     2008     19.150000\n",
       "                     2010     18.475000\n",
       "                     2011     17.575000\n",
       "                     2015     15.866667\n",
       "                     2012     15.675000\n",
       "                     2013     15.400000\n",
       "                     2006     13.700000\n",
       "                     2007     12.500000\n",
       "                     2014     12.480000\n",
       "                     1998      9.557603\n",
       "High income          2015      8.400000\n",
       "                     2012      7.900000\n",
       "                     2014      7.800000\n",
       "Upper middle income  1997      7.449000\n",
       "High income          2008      6.600000\n",
       "Upper middle income  1995      6.558289\n",
       "High income          2010      6.100000\n",
       "                     2007      5.800000\n",
       "                     2013      5.400000\n",
       "                     2009      5.200000\n",
       "                     2006      4.850000\n",
       "                     2011      4.800000\n",
       "                     2003      3.300000\n",
       "Name: IHR, dtype: float64"
      ]
     },
     "execution_count": 140,
     "metadata": {},
     "output_type": "execute_result"
    }
   ],
   "source": [
    "# IHR per income group and year\n",
    "ggi_latin.dropna().groupby(['IncomeGroup','Year'])['IHR'].mean().sort_values(ascending=False)"
   ]
  },
  {
   "cell_type": "code",
   "execution_count": 139,
   "metadata": {},
   "outputs": [
    {
     "data": {
      "text/plain": [
       "Year\n",
       "1995    50.749552\n",
       "1996    48.022056\n",
       "2002    38.800000\n",
       "2015    38.066667\n",
       "2004    35.157143\n",
       "2001    33.600000\n",
       "2010    32.728571\n",
       "1999    32.659862\n",
       "2000    30.320000\n",
       "2011    29.320000\n",
       "2003    28.600000\n",
       "1998    27.335760\n",
       "2012    27.300000\n",
       "2014    26.688889\n",
       "2005    26.550000\n",
       "2008    25.800000\n",
       "2009    25.450000\n",
       "2013    24.450000\n",
       "2006    23.455556\n",
       "2007    22.900000\n",
       "1997     7.449000\n",
       "Name: IHR, dtype: float64"
      ]
     },
     "execution_count": 139,
     "metadata": {},
     "output_type": "execute_result"
    }
   ],
   "source": [
    "# IHR per income group and year\n",
    "ggi_latin.dropna().groupby('Year')['IHR'].mean().sort_values(ascending=False)"
   ]
  },
  {
   "cell_type": "code",
   "execution_count": 138,
   "metadata": {},
   "outputs": [
    {
     "data": {
      "text/plain": [
       "Country Name  Year\n",
       "El Salvador   1995    139.132079\n",
       "              1996    117.277282\n",
       "              2015    108.600000\n",
       "              1998     94.996731\n",
       "Honduras      2011     93.200000\n",
       "              2012     92.700000\n",
       "              2010     83.100000\n",
       "              2013     81.900000\n",
       "              2014     74.600000\n",
       "El Salvador   2009     72.800000\n",
       "              2011     72.200000\n",
       "Colombia      1996     71.786900\n",
       "Honduras      2009     71.500000\n",
       "Colombia      2002     68.300000\n",
       "              2001     67.900000\n",
       "El Salvador   2010     66.000000\n",
       "              2006     65.800000\n",
       "Colombia      2000     65.700000\n",
       "El Salvador   1999     65.047181\n",
       "              2014     64.200000\n",
       "Honduras      2015     63.800000\n",
       "El Salvador   2005     63.500000\n",
       "Colombia      1999     62.292449\n",
       "Honduras      2003     61.500000\n",
       "              2008     61.400000\n",
       "El Salvador   2007     58.400000\n",
       "Honduras      2002     55.700000\n",
       "Jamaica       2004     55.200000\n",
       "Honduras      2001     54.700000\n",
       "              2004     53.900000\n",
       "                         ...    \n",
       "Uruguay       2012      7.900000\n",
       "Argentina     1995      7.812330\n",
       "Uruguay       2014      7.800000\n",
       "              2013      7.600000\n",
       "Argentina     2014      7.500000\n",
       "              1999      7.301382\n",
       "Costa Rica    2003      7.300000\n",
       "Argentina     1998      7.214683\n",
       "Bolivia       2005      7.200000\n",
       "Costa Rica    2004      6.700000\n",
       "Uruguay       2009      6.700000\n",
       "              2008      6.600000\n",
       "Costa Rica    2001      6.400000\n",
       "Bolivia       2006      6.400000\n",
       "Costa Rica    1999      6.394356\n",
       "              2002      6.300000\n",
       "              2000      6.300000\n",
       "Uruguay       2006      6.100000\n",
       "              2010      6.100000\n",
       "Costa Rica    1998      5.988379\n",
       "Uruguay       2011      5.900000\n",
       "              2007      5.800000\n",
       "Costa Rica    1997      5.756164\n",
       "              1996      5.313324\n",
       "              1995      5.304248\n",
       "Chile         2009      3.700000\n",
       "              2011      3.700000\n",
       "              2006      3.600000\n",
       "              2003      3.300000\n",
       "              2013      3.200000\n",
       "Name: IHR, Length: 143, dtype: float64"
      ]
     },
     "execution_count": 138,
     "metadata": {},
     "output_type": "execute_result"
    }
   ],
   "source": [
    "# IHR per country and year (Countries with the highest homicides rates overtime)\n",
    "ggi_latin.dropna().groupby(['Country Name','Year'])['IHR'].mean().sort_values(ascending=False)"
   ]
  },
  {
   "cell_type": "code",
   "execution_count": null,
   "metadata": {
    "collapsed": true
   },
   "outputs": [],
   "source": []
  }
 ],
 "metadata": {
  "kernelspec": {
   "display_name": "Python 3",
   "language": "python",
   "name": "python3"
  },
  "language_info": {
   "codemirror_mode": {
    "name": "ipython",
    "version": 3
   },
   "file_extension": ".py",
   "mimetype": "text/x-python",
   "name": "python",
   "nbconvert_exporter": "python",
   "pygments_lexer": "ipython3",
   "version": "3.6.3"
  }
 },
 "nbformat": 4,
 "nbformat_minor": 2
}
